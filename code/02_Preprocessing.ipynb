{
 "cells": [
  {
   "cell_type": "markdown",
   "id": "a1e8bcae",
   "metadata": {},
   "source": [
    "# Gini"
   ]
  },
  {
   "cell_type": "markdown",
   "id": "e2d9f991",
   "metadata": {},
   "source": [
    "## Pre-processing"
   ]
  },
  {
   "cell_type": "markdown",
   "id": "2531a1f0",
   "metadata": {},
   "source": [
    "    import"
   ]
  },
  {
   "cell_type": "code",
   "execution_count": 5,
   "id": "be4d91cd",
   "metadata": {},
   "outputs": [],
   "source": [
    "import numpy as np\n",
    "import pandas as pd\n",
    "\n",
    "import re\n",
    "\n",
    "from nltk.tokenize import RegexpTokenizer\n",
    "from nltk.corpus import stopwords\n",
    "from nltk.sentiment import SentimentIntensityAnalyzer\n",
    "\n",
    "from sklearn.feature_extraction.text import CountVectorizer"
   ]
  },
  {
   "cell_type": "markdown",
   "id": "ea729490",
   "metadata": {},
   "source": [
    "    read"
   ]
  },
  {
   "cell_type": "code",
   "execution_count": 4,
   "id": "0f8813da",
   "metadata": {},
   "outputs": [],
   "source": [
    "#loans_clean = pd.read_csv(\"../data/transformed/\")\n",
    "#loans_temp = pd.read_csv(\"../data/raw/loans.csv\")"
   ]
  },
  {
   "cell_type": "markdown",
   "id": "89302a15",
   "metadata": {},
   "source": [
    "    downsample"
   ]
  },
  {
   "cell_type": "code",
   "execution_count": null,
   "id": "b9627735",
   "metadata": {},
   "outputs": [],
   "source": [
    "#df = pd.DataFrame(loans_clean.sample(50000, replace=False, random_state=137))"
   ]
  },
  {
   "cell_type": "markdown",
   "id": "b0d3b075",
   "metadata": {},
   "source": [
    "    process"
   ]
  },
  {
   "cell_type": "markdown",
   "id": "cf0c0cec",
   "metadata": {},
   "source": [
    "\"TITLE\" + column_name might need to be formatted as f string."
   ]
  },
  {
   "cell_type": "code",
   "execution_count": 6,
   "id": "c77d45ac",
   "metadata": {},
   "outputs": [],
   "source": [
    "def free_form_counter(df, column_name):\n",
    "    \"\"\"\n",
    "    \n",
    "    \"\"\"\n",
    "    df[\"CHAR_COUNT\" + column_name] = df[column_name].str.len()\n",
    "    df[\"WORD_COUNT\" + column_name] = df[column_name].str.split().str.len()\n",
    "    \n",
    "    return df[\"CHAR_COUNT\" + column_name], df[\"WORD_COUNT\" + column_name]"
   ]
  },
  {
   "cell_type": "code",
   "execution_count": null,
   "id": "02e12582",
   "metadata": {},
   "outputs": [],
   "source": [
    "sw = set(stopwords.words(\"english\"))\n",
    "cv = set(CountVectorizer(stop_words=\"english\").get_stop_words())\n",
    "set(cv | sw);"
   ]
  },
  {
   "cell_type": "code",
   "execution_count": 7,
   "id": "0f0edf3c",
   "metadata": {},
   "outputs": [],
   "source": [
    "def free_form_processor(df, column_name, stops):\n",
    "    \"\"\"\n",
    "    \n",
    "    \"\"\"\n",
    "    df[\"FREE_FORM\" + column_name] = df[column_name].map(RegexpTokennizer(r\"\\w+\"))\n",
    "    df[\"FREE_FORM\" + column_name] = df[column_name].map(lambda x: \" \".join(x))\n",
    "    df[\"FREE_FORM\" + column_name] = df[column_name].map(str.lower)\n",
    "    df[\"FREE_FORM\" + column_name] = df[column_name].map(lambda x: \" \".join(w for w in x.split() if w not in stops))\n",
    "    df[\"FREE_FORM\" + column_name] = df[column_name].map(str.strip)\n",
    "\n",
    "    return df[\"FREE_FORM\" + column_name]"
   ]
  },
  {
   "cell_type": "code",
   "execution_count": 8,
   "id": "d4c41153",
   "metadata": {},
   "outputs": [],
   "source": [
    "def free_form_sent(df, column_name):\n",
    "    \"\"\"\n",
    "    \n",
    "    \"\"\"\n",
    "    sia = SentimentIntensityAnalyzer()\n",
    "\n",
    "    sent_dict_df = df[column_name].map(lambda x: sia.polarity_scores(x))\n",
    "    sent_df   = sent_dict_df.map(lambda x: [v for k, v in x.items()]).apply(pd.Series)\n",
    "    df[[\"NEGATIVE\" + column_name, \"NEUTRAL\" + column_name, \"POSITIVE\" + column_name, \"COMPOUND\" + column_name]] = sent_df\n",
    "\n",
    "    return df[[\"NEGATIVE\" + column_name, \"NEUTRAL\" + column_name, \"POSITIVE\" + column_name, \"COMPOUND\" + column_name]]"
   ]
  },
  {
   "cell_type": "markdown",
   "id": "c94548e5",
   "metadata": {},
   "source": [
    "    export"
   ]
  },
  {
   "cell_type": "code",
   "execution_count": null,
   "id": "65babc18",
   "metadata": {},
   "outputs": [],
   "source": [
    "#df.reset_index(inplace=True, drop=True)\n",
    "#df_clean.to_csv(\"../data/transformed/preprocessed_df_data.csv\")"
   ]
  }
 ],
 "metadata": {
  "kernelspec": {
   "display_name": "Python 3 (ipykernel)",
   "language": "python",
   "name": "python3"
  },
  "language_info": {
   "codemirror_mode": {
    "name": "ipython",
    "version": 3
   },
   "file_extension": ".py",
   "mimetype": "text/x-python",
   "name": "python",
   "nbconvert_exporter": "python",
   "pygments_lexer": "ipython3",
   "version": "3.8.12"
  }
 },
 "nbformat": 4,
 "nbformat_minor": 5
}
