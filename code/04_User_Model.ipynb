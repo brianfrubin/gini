{
 "cells": [
  {
   "cell_type": "markdown",
   "id": "d95eae11-1d4f-4d82-b3b7-3a8c86ea3355",
   "metadata": {},
   "source": [
    "## Setting Up DataFrame for a User Based Recommender System"
   ]
  },
  {
   "cell_type": "code",
   "execution_count": 2,
   "id": "a8fb2cf2-a1d5-4924-b2ef-741aabd3192f",
   "metadata": {},
   "outputs": [],
   "source": [
    "import pandas as pd\n",
    "import numpy as np"
   ]
  },
  {
   "cell_type": "code",
   "execution_count": 226,
   "id": "51cdcf75-18bb-4c6c-90c8-7020994b1b7f",
   "metadata": {},
   "outputs": [],
   "source": [
    "df = pd.read_csv('loans.csv')"
   ]
  },
  {
   "cell_type": "code",
   "execution_count": 8,
   "id": "cd34cded-bd64-4235-82fe-7e6b4a69df00",
   "metadata": {},
   "outputs": [],
   "source": [
    "loan_lenders_df = pd.read_csv('loans_lenders.csv')"
   ]
  },
  {
   "cell_type": "markdown",
   "id": "a2039f86-cdc9-4cd8-8ff9-fa504e68603f",
   "metadata": {},
   "source": [
    "#### Adding Lender column (User ID) to Loans DF"
   ]
  },
  {
   "cell_type": "code",
   "execution_count": 9,
   "id": "0c51dde0-ee8b-4817-9f91-92b6e0d5d840",
   "metadata": {},
   "outputs": [],
   "source": [
    "#creating lenders column , linked on LOAN_ID \n",
    "df_main = df.merge(loan_lenders_df, on='LOAN_ID')"
   ]
  },
  {
   "cell_type": "code",
   "execution_count": 10,
   "id": "6dee29b0-ad30-4539-8da1-836ca7ec714c",
   "metadata": {},
   "outputs": [],
   "source": [
    "#turn lenders column into a list, so we can expand our DF by lender for each loan\n",
    "df_main['LENDERS'] = df_main['LENDERS'].str.split(', ')"
   ]
  },
  {
   "cell_type": "code",
   "execution_count": 11,
   "id": "fc407508-52ac-4eff-a5aa-81cfb0b45f27",
   "metadata": {},
   "outputs": [],
   "source": [
    "df_main = df_main.explode('LENDERS')"
   ]
  },
  {
   "cell_type": "code",
   "execution_count": 12,
   "id": "cad46aaa-e053-4e57-b4dd-29df51287454",
   "metadata": {},
   "outputs": [
    {
     "data": {
      "text/plain": [
       "(40797914, 35)"
      ]
     },
     "execution_count": 12,
     "metadata": {},
     "output_type": "execute_result"
    }
   ],
   "source": [
    "df_main.shape"
   ]
  },
  {
   "cell_type": "code",
   "execution_count": 13,
   "id": "b5ae786e-e1d0-46e1-88d6-dad3390742cd",
   "metadata": {},
   "outputs": [
    {
     "data": {
      "text/plain": [
       "Index(['LOAN_ID', 'LOAN_NAME', 'ORIGINAL_LANGUAGE', 'DESCRIPTION',\n",
       "       'DESCRIPTION_TRANSLATED', 'FUNDED_AMOUNT', 'LOAN_AMOUNT', 'STATUS',\n",
       "       'IMAGE_ID', 'VIDEO_ID', 'ACTIVITY_NAME', 'SECTOR_NAME', 'LOAN_USE',\n",
       "       'COUNTRY_CODE', 'COUNTRY_NAME', 'TOWN_NAME', 'CURRENCY_POLICY',\n",
       "       'CURRENCY_EXCHANGE_COVERAGE_RATE', 'CURRENCY', 'PARTNER_ID',\n",
       "       'POSTED_TIME', 'PLANNED_EXPIRATION_TIME', 'DISBURSE_TIME',\n",
       "       'RAISED_TIME', 'LENDER_TERM', 'NUM_LENDERS_TOTAL',\n",
       "       'NUM_JOURNAL_ENTRIES', 'NUM_BULK_ENTRIES', 'TAGS', 'BORROWER_NAMES',\n",
       "       'BORROWER_GENDERS', 'BORROWER_PICTURED', 'REPAYMENT_INTERVAL',\n",
       "       'DISTRIBUTION_MODEL', 'LENDERS'],\n",
       "      dtype='object')"
      ]
     },
     "execution_count": 13,
     "metadata": {},
     "output_type": "execute_result"
    }
   ],
   "source": [
    "df_main.columns"
   ]
  },
  {
   "cell_type": "code",
   "execution_count": 14,
   "id": "ed3d1123-54a7-4ae6-90f1-322bf87b3fb7",
   "metadata": {},
   "outputs": [
    {
     "data": {
      "text/plain": [
       "2131663"
      ]
     },
     "execution_count": 14,
     "metadata": {},
     "output_type": "execute_result"
    }
   ],
   "source": [
    "#2,131,663 total unique loans\n",
    "df_main.LOAN_ID.nunique()"
   ]
  },
  {
   "cell_type": "markdown",
   "id": "f606d750-2fdb-4a09-9838-633938c98e98",
   "metadata": {
    "tags": []
   },
   "source": [
    "#### Number of Total Lenders - 1,688,929"
   ]
  },
  {
   "cell_type": "code",
   "execution_count": 21,
   "id": "e41be200-0bd4-4eff-a374-cd720d5a80fe",
   "metadata": {},
   "outputs": [
    {
     "data": {
      "text/plain": [
       "1688929"
      ]
     },
     "execution_count": 21,
     "metadata": {},
     "output_type": "execute_result"
    }
   ],
   "source": [
    "#Total number of unique lenders = 1,688,929\n",
    "df_main['LENDERS'].nunique()"
   ]
  },
  {
   "cell_type": "markdown",
   "id": "d1b676f5-c0a3-48f6-b6e7-f605361512fc",
   "metadata": {},
   "source": [
    "#### Number of Total Lenders Contributing to Multiple Loans - 1,090,336\n",
    "#### Number of Total Lenders Contributing to Only One Loan - 598,593"
   ]
  },
  {
   "cell_type": "code",
   "execution_count": 10,
   "id": "574c8c1a-2da4-42e8-91fa-0435a2ed6dcb",
   "metadata": {},
   "outputs": [],
   "source": [
    "#Create new dataframe with only repeat lenders\n",
    "#https://stackoverflow.com/questions/14657241/how-do-i-get-a-list-of-all-the-duplicate-items-using-pandas-in-python\n",
    "df_main = df_main[df_main.LENDERS.duplicated(keep=False)]"
   ]
  },
  {
   "cell_type": "code",
   "execution_count": 11,
   "id": "7fc88a3e-99d4-4e6e-8c29-5232553cbe8b",
   "metadata": {},
   "outputs": [
    {
     "data": {
      "text/plain": [
       "1090336"
      ]
     },
     "execution_count": 11,
     "metadata": {},
     "output_type": "execute_result"
    }
   ],
   "source": [
    "#Check number of lenders who made more than one loan\n",
    "df_main['LENDERS'].nunique()"
   ]
  },
  {
   "cell_type": "markdown",
   "id": "0da8af2c-fb27-4900-a992-6a610de0bc12",
   "metadata": {},
   "source": [
    "#### Examining LOAN_PURCHASE_NUM Column"
   ]
  },
  {
   "cell_type": "code",
   "execution_count": null,
   "id": "d54506fa-16b8-491e-9847-84847990c2ef",
   "metadata": {},
   "outputs": [],
   "source": [
    "#Add column of number of loans made by each user by merging with lenders.csv on LENDERS column (PERMANENT_NAME in lenders.csv)\n",
    "lenders_df = pd.read_csv('./kivasnaps/lenders.csv')"
   ]
  },
  {
   "cell_type": "code",
   "execution_count": null,
   "id": "e1dd7818-2924-41c5-9108-8479bbbf22bf",
   "metadata": {},
   "outputs": [],
   "source": [
    "lenders_df.rename(columns={'PERMANENT_NAME': 'LENDERS'}, inplace=True)\n",
    "lenders_df.rename(columns={'COUNTRY_CODE': 'LENDER_COUNTRY_CODE'}, inplace=True)\n",
    "lenders_df = lenders_df[['LENDERS', 'LENDER_COUNTRY_CODE', 'LOAN_PURCHASE_NUM']]"
   ]
  },
  {
   "cell_type": "code",
   "execution_count": null,
   "id": "d3b9d89a-2bbd-47ba-ae2e-c9e76e01054a",
   "metadata": {},
   "outputs": [],
   "source": [
    "#different from unique lenders in df_main DF? Could be due to different data used in snapshots provided by Kiva\n",
    "lenders_df['LENDERS'].nunique()"
   ]
  },
  {
   "cell_type": "code",
   "execution_count": null,
   "id": "ee8747de-7b84-4887-bef7-c4d7e0baa7b5",
   "metadata": {},
   "outputs": [],
   "source": [
    "df_main = df_main.merge(lenders_df, on='LENDERS')"
   ]
  },
  {
   "cell_type": "code",
   "execution_count": null,
   "id": "f3eafcab-62d3-44f7-a502-6efb54699ef9",
   "metadata": {},
   "outputs": [],
   "source": [
    "df_main.shape"
   ]
  },
  {
   "cell_type": "code",
   "execution_count": null,
   "id": "9820832c-0ec1-4999-9d59-cadbd0775870",
   "metadata": {},
   "outputs": [],
   "source": [
    "#LOAN_PURCHASE_NUM data is wrong, because all of the lenders should now have at least 2 loans made\n",
    "len(df_main[df_main['LOAN_PURCHASE_NUM'] == 1])"
   ]
  },
  {
   "cell_type": "markdown",
   "id": "5d12a122-85e5-427a-9d40-f63a664fa593",
   "metadata": {},
   "source": [
    "#### Create new LOANS_MADE Column showing Total Loans Made for Each User"
   ]
  },
  {
   "cell_type": "code",
   "execution_count": 16,
   "id": "35e7b1fb-7729-49a5-b550-a22399b61fcd",
   "metadata": {},
   "outputs": [
    {
     "data": {
      "text/plain": [
       "LOAN_ID                                   0\n",
       "LOAN_NAME                           1070482\n",
       "ORIGINAL_LANGUAGE                    946851\n",
       "DESCRIPTION                          956501\n",
       "DESCRIPTION_TRANSLATED              9302095\n",
       "FUNDED_AMOUNT                             0\n",
       "LOAN_AMOUNT                               0\n",
       "STATUS                                    0\n",
       "IMAGE_ID                             946851\n",
       "VIDEO_ID                           40686500\n",
       "ACTIVITY_NAME                             0\n",
       "SECTOR_NAME                               0\n",
       "LOAN_USE                             947148\n",
       "COUNTRY_CODE                          12004\n",
       "COUNTRY_NAME                              0\n",
       "TOWN_NAME                           4705981\n",
       "CURRENCY_POLICY                           0\n",
       "CURRENCY_EXCHANGE_COVERAGE_RATE    11778230\n",
       "CURRENCY                                  0\n",
       "PARTNER_ID                                0\n",
       "POSTED_TIME                               0\n",
       "PLANNED_EXPIRATION_TIME             7659843\n",
       "DISBURSE_TIME                         46279\n",
       "RAISED_TIME                         1441768\n",
       "LENDER_TERM                             374\n",
       "NUM_LENDERS_TOTAL                         0\n",
       "NUM_JOURNAL_ENTRIES                       0\n",
       "NUM_BULK_ENTRIES                          0\n",
       "TAGS                               15822255\n",
       "BORROWER_NAMES                      1070482\n",
       "BORROWER_GENDERS                     946851\n",
       "BORROWER_PICTURED                    946851\n",
       "REPAYMENT_INTERVAL                        0\n",
       "DISTRIBUTION_MODEL                        0\n",
       "LENDERS                                   0\n",
       "dtype: int64"
      ]
     },
     "execution_count": 16,
     "metadata": {},
     "output_type": "execute_result"
    }
   ],
   "source": [
    "df_main.isna().sum()"
   ]
  },
  {
   "cell_type": "code",
   "execution_count": 17,
   "id": "cfc0ba49-b340-4b67-8666-d5f417c5c2ff",
   "metadata": {},
   "outputs": [],
   "source": [
    "# used this solution from https://stackoverflow.com/questions/17709270/create-column-of-value-counts-in-pandas-dataframe\n",
    "df_main['LOANS_MADE'] = df_main.groupby(['LENDERS'])['LOAN_ID'].transform('count')"
   ]
  },
  {
   "cell_type": "code",
   "execution_count": 19,
   "id": "53938c7a-2381-4943-8d9b-3d032f5da8e1",
   "metadata": {},
   "outputs": [
    {
     "data": {
      "text/plain": [
       "gooddogg1            308507\n",
       "themissionbeltco     221059\n",
       "trolltech4460        211759\n",
       "nms                  181897\n",
       "gmct                 128159\n",
       "                      ...  \n",
       "sean2136                  1\n",
       "elizabeth81199189         1\n",
       "allison4569               1\n",
       "hannah3749                1\n",
       "rebecca75642721           1\n",
       "Name: LENDERS, Length: 1688929, dtype: int64"
      ]
     },
     "execution_count": 19,
     "metadata": {},
     "output_type": "execute_result"
    }
   ],
   "source": [
    "df_main.LENDERS.value_counts()"
   ]
  },
  {
   "cell_type": "code",
   "execution_count": 20,
   "id": "0a4338ff-9680-488e-a151-aa75bf5b9b89",
   "metadata": {},
   "outputs": [
    {
     "data": {
      "text/plain": [
       "308507"
      ]
     },
     "execution_count": 20,
     "metadata": {},
     "output_type": "execute_result"
    }
   ],
   "source": [
    "# Checking that new LOANS_MADE column is accurately mapping total count seen in LENDERS.value_counts()\n",
    "df_main['LOANS_MADE'].max()"
   ]
  },
  {
   "cell_type": "markdown",
   "id": "71b6899a-30a1-4426-9cd5-bb4dd9dee267",
   "metadata": {},
   "source": [
    "#### Reduce Size by Dropping Uncessary Columns for Analysis"
   ]
  },
  {
   "cell_type": "code",
   "execution_count": 22,
   "id": "7d86721b-1e3d-420a-820c-75130812d8bb",
   "metadata": {},
   "outputs": [],
   "source": [
    "user_df = df_main.drop(columns = (['LOAN_NAME', 'FUNDED_AMOUNT', 'STATUS',\n",
    "       'IMAGE_ID', 'VIDEO_ID', 'TOWN_NAME', 'CURRENCY_POLICY',\n",
    "       'CURRENCY_EXCHANGE_COVERAGE_RATE', 'CURRENCY', 'PARTNER_ID',\n",
    "       'PLANNED_EXPIRATION_TIME', 'LENDER_TERM', 'NUM_JOURNAL_ENTRIES', 'NUM_BULK_ENTRIES',\n",
    "       'BORROWER_NAMES', 'BORROWER_PICTURED', 'REPAYMENT_INTERVAL']), axis=1)"
   ]
  },
  {
   "cell_type": "code",
   "execution_count": null,
   "id": "edc2db94-ebc3-4ec9-b5de-5e3eb2060e87",
   "metadata": {},
   "outputs": [],
   "source": [
    "user_df.to_csv('user_df.csv')"
   ]
  },
  {
   "cell_type": "markdown",
   "id": "84f443aa-3693-4bed-8591-eb4bf5fce802",
   "metadata": {},
   "source": [
    "#### Create DataFrame With Country Code, Number of Loans Made, and Loan IDs per User"
   ]
  },
  {
   "cell_type": "code",
   "execution_count": 33,
   "id": "ad34ca1e-acb9-4f3c-b32d-7ed7ee506c89",
   "metadata": {},
   "outputs": [],
   "source": [
    "user_eda = user_df.groupby(['LENDERS'])['LOANS_MADE'].mean().reset_index()"
   ]
  },
  {
   "cell_type": "code",
   "execution_count": 90,
   "id": "43b83e8c-9f59-4838-b029-f651d5c6e860",
   "metadata": {},
   "outputs": [],
   "source": [
    "lenders_df = pd.read_csv('lenders.csv')\n",
    "\n",
    "lenders_df.rename(columns={'PERMANENT_NAME': 'LENDERS'}, inplace=True)\n",
    "lenders_df.rename(columns={'COUNTRY_CODE': 'LENDER_COUNTRY_CODE'}, inplace=True)\n",
    "lenders_df = lenders_df[['LENDERS', 'LENDER_COUNTRY_CODE']]\n",
    "\n",
    "user_eda = user_eda.merge(lenders_df, on='LENDERS')                       "
   ]
  },
  {
   "cell_type": "code",
   "execution_count": 93,
   "id": "5f40f8e6-acd2-460c-b208-7f5453f3f224",
   "metadata": {},
   "outputs": [
    {
     "data": {
      "text/html": [
       "<div><div id=8b32e4fc-e5e3-425f-b1b2-5e29f221d610 style=\"display:none; background-color:#9D6CFF; color:white; width:200px; height:30px; padding-left:5px; border-radius:4px; flex-direction:row; justify-content:space-around; align-items:center;\" onmouseover=\"this.style.backgroundColor='#BA9BF8'\" onmouseout=\"this.style.backgroundColor='#9D6CFF'\" onclick=\"window.commands?.execute('create-mitosheet-from-dataframe-output');\">See Full Dataframe in Mito</div> <script> if (window.commands.hasCommand('create-mitosheet-from-dataframe-output')) document.getElementById('8b32e4fc-e5e3-425f-b1b2-5e29f221d610').style.display = 'flex' </script> <table border=\"1\" class=\"dataframe\">\n",
       "  <thead>\n",
       "    <tr style=\"text-align: right;\">\n",
       "      <th></th>\n",
       "      <th>Unnamed: 0</th>\n",
       "      <th>LENDERS</th>\n",
       "      <th>LOANS_MADE</th>\n",
       "      <th>LENDER_COUNTRY_CODE</th>\n",
       "    </tr>\n",
       "  </thead>\n",
       "  <tbody>\n",
       "    <tr>\n",
       "      <th>0</th>\n",
       "      <td>0</td>\n",
       "      <td>00000</td>\n",
       "      <td>39.0</td>\n",
       "      <td>DE</td>\n",
       "    </tr>\n",
       "    <tr>\n",
       "      <th>1</th>\n",
       "      <td>1</td>\n",
       "      <td>0002</td>\n",
       "      <td>70.0</td>\n",
       "      <td>US</td>\n",
       "    </tr>\n",
       "    <tr>\n",
       "      <th>2</th>\n",
       "      <td>2</td>\n",
       "      <td>00mike00</td>\n",
       "      <td>1.0</td>\n",
       "      <td>NaN</td>\n",
       "    </tr>\n",
       "    <tr>\n",
       "      <th>3</th>\n",
       "      <td>3</td>\n",
       "      <td>0101craign0101</td>\n",
       "      <td>71.0</td>\n",
       "      <td>US</td>\n",
       "    </tr>\n",
       "    <tr>\n",
       "      <th>4</th>\n",
       "      <td>4</td>\n",
       "      <td>013023</td>\n",
       "      <td>1.0</td>\n",
       "      <td>NaN</td>\n",
       "    </tr>\n",
       "  </tbody>\n",
       "</table></div>"
      ],
      "text/plain": [
       "   Unnamed: 0         LENDERS  LOANS_MADE LENDER_COUNTRY_CODE\n",
       "0           0           00000        39.0                  DE\n",
       "1           1            0002        70.0                  US\n",
       "2           2        00mike00         1.0                 NaN\n",
       "3           3  0101craign0101        71.0                  US\n",
       "4           4          013023         1.0                 NaN"
      ]
     },
     "execution_count": 93,
     "metadata": {},
     "output_type": "execute_result"
    }
   ],
   "source": [
    "user_eda.head()"
   ]
  },
  {
   "cell_type": "code",
   "execution_count": 104,
   "id": "0adafcba-e793-4e29-9f75-0dc354d9c779",
   "metadata": {},
   "outputs": [],
   "source": [
    "#https://www.geeksforgeeks.org/how-to-list-values-for-each-pandas-group/\n",
    "loan_list = df_main.groupby('LENDERS')['LOAN_ID'].apply(list)\n",
    "\n",
    "df_loan_list = loan_list.reset_index(name = 'LOAN_ID')"
   ]
  },
  {
   "cell_type": "code",
   "execution_count": 105,
   "id": "6df1c122-6926-4b50-a9a4-221d2744b189",
   "metadata": {},
   "outputs": [
    {
     "data": {
      "text/html": [
       "<div><div id=7e259c27-725c-457d-89f2-5e5258f6eefa style=\"display:none; background-color:#9D6CFF; color:white; width:200px; height:30px; padding-left:5px; border-radius:4px; flex-direction:row; justify-content:space-around; align-items:center;\" onmouseover=\"this.style.backgroundColor='#BA9BF8'\" onmouseout=\"this.style.backgroundColor='#9D6CFF'\" onclick=\"window.commands?.execute('create-mitosheet-from-dataframe-output');\">See Full Dataframe in Mito</div> <script> if (window.commands.hasCommand('create-mitosheet-from-dataframe-output')) document.getElementById('7e259c27-725c-457d-89f2-5e5258f6eefa').style.display = 'flex' </script> <table border=\"1\" class=\"dataframe\">\n",
       "  <thead>\n",
       "    <tr style=\"text-align: right;\">\n",
       "      <th></th>\n",
       "      <th>LENDERS</th>\n",
       "      <th>LOAN_ID</th>\n",
       "    </tr>\n",
       "  </thead>\n",
       "  <tbody>\n",
       "    <tr>\n",
       "      <th>0</th>\n",
       "      <td>00000</td>\n",
       "      <td>[197839, 164672, 163179, 195614, 161671, 186831, 186026, 163925, 158238, 162968, 152732, 158749, 157653, 163534, 161416, 163724, 161077, 162762, 163713, 163579, 195013, 158076, 166748, 163530, 195067, 170826, 189240, 155775, 163169, 165254, 158377, 163566, 162262, 162813, 163200, 157424, 159976, 163646, 162855]</td>\n",
       "    </tr>\n",
       "    <tr>\n",
       "      <th>1</th>\n",
       "      <td>0002</td>\n",
       "      <td>[137698, 711591, 272120, 293916, 248805, 76650, 76650, 349696, 293876, 169464, 489656, 152862, 561404, 170354, 268050, 393505, 208527, 182390, 293935, 703777, 705025, 314614, 217471, 361807, 314408, 677363, 185230, 578733, 190776, 235655, 402856, 170036, 151450, 269020, 151534, 76794, 76794, 76835, 293855, 436978, 217481, 314613, 711683, 315981, 489654, 95798, 833838, 314612, 21116, 558202, 671323, 20980, 109071, 167528, 110259, 95909, 76253, 168801, 675234, 20257, 556790, 301102, 473766, 362542, 110015, 137670, 832597, 708297, 143228, 268267]</td>\n",
       "    </tr>\n",
       "    <tr>\n",
       "      <th>2</th>\n",
       "      <td>00mike00</td>\n",
       "      <td>[502260]</td>\n",
       "    </tr>\n",
       "    <tr>\n",
       "      <th>3</th>\n",
       "      <td>0101craign0101</td>\n",
       "      <td>[22041, 167368, 366808, 400096, 133690, 431402, 419314, 12318, 472988, 206465, 167693, 158380, 84062, 256059, 398609, 260897, 8903, 300627, 452568, 277719, 13283, 347327, 89116, 404762, 322498, 58183, 357481, 29624, 312681, 129539, 13062, 72307, 495616, 472622, 372153, 430771, 54354, 64417, 56458, 79428, 349925, 8906, 361938, 101779, 226831, 180529, 30596, 91947, 116365, 83825, 7198, 293450, 142839, 373353, 242722, 62775, 495777, 62592, 474862, 199877, 136208, 383846, 12243, 456304, 62906, 329128, 114118, 215383, 7450, 1114578, 507812]</td>\n",
       "    </tr>\n",
       "    <tr>\n",
       "      <th>4</th>\n",
       "      <td>013023</td>\n",
       "      <td>[1730367]</td>\n",
       "    </tr>\n",
       "  </tbody>\n",
       "</table></div>"
      ],
      "text/plain": [
       "          LENDERS                                            LOAN_ID\n",
       "0           00000  [197839, 164672, 163179, 195614, 161671, 18683...\n",
       "1            0002  [137698, 711591, 272120, 293916, 248805, 76650...\n",
       "2        00mike00                                           [502260]\n",
       "3  0101craign0101  [22041, 167368, 366808, 400096, 133690, 431402...\n",
       "4          013023                                          [1730367]"
      ]
     },
     "execution_count": 105,
     "metadata": {},
     "output_type": "execute_result"
    }
   ],
   "source": [
    "df_loan_list.head()"
   ]
  },
  {
   "cell_type": "code",
   "execution_count": 108,
   "id": "0462392b-7190-4053-b1f5-2d2778f68fe9",
   "metadata": {},
   "outputs": [],
   "source": [
    "user_eda = user_eda.merge(df_loan_list, on='LENDERS')    "
   ]
  },
  {
   "cell_type": "code",
   "execution_count": 109,
   "id": "56c81afa-6f55-4eff-99d3-d0c9d5672205",
   "metadata": {},
   "outputs": [
    {
     "data": {
      "text/html": [
       "<div><div id=639e50b3-6133-4825-8c3c-9ae0ee16a6f5 style=\"display:none; background-color:#9D6CFF; color:white; width:200px; height:30px; padding-left:5px; border-radius:4px; flex-direction:row; justify-content:space-around; align-items:center;\" onmouseover=\"this.style.backgroundColor='#BA9BF8'\" onmouseout=\"this.style.backgroundColor='#9D6CFF'\" onclick=\"window.commands?.execute('create-mitosheet-from-dataframe-output');\">See Full Dataframe in Mito</div> <script> if (window.commands.hasCommand('create-mitosheet-from-dataframe-output')) document.getElementById('639e50b3-6133-4825-8c3c-9ae0ee16a6f5').style.display = 'flex' </script> <table border=\"1\" class=\"dataframe\">\n",
       "  <thead>\n",
       "    <tr style=\"text-align: right;\">\n",
       "      <th></th>\n",
       "      <th>Unnamed: 0</th>\n",
       "      <th>LENDERS</th>\n",
       "      <th>LOANS_MADE</th>\n",
       "      <th>LENDER_COUNTRY_CODE</th>\n",
       "      <th>LOAN_ID</th>\n",
       "    </tr>\n",
       "  </thead>\n",
       "  <tbody>\n",
       "    <tr>\n",
       "      <th>0</th>\n",
       "      <td>0</td>\n",
       "      <td>00000</td>\n",
       "      <td>39.0</td>\n",
       "      <td>DE</td>\n",
       "      <td>[197839, 164672, 163179, 195614, 161671, 186831, 186026, 163925, 158238, 162968, 152732, 158749, 157653, 163534, 161416, 163724, 161077, 162762, 163713, 163579, 195013, 158076, 166748, 163530, 195067, 170826, 189240, 155775, 163169, 165254, 158377, 163566, 162262, 162813, 163200, 157424, 159976, 163646, 162855]</td>\n",
       "    </tr>\n",
       "    <tr>\n",
       "      <th>1</th>\n",
       "      <td>1</td>\n",
       "      <td>0002</td>\n",
       "      <td>70.0</td>\n",
       "      <td>US</td>\n",
       "      <td>[137698, 711591, 272120, 293916, 248805, 76650, 76650, 349696, 293876, 169464, 489656, 152862, 561404, 170354, 268050, 393505, 208527, 182390, 293935, 703777, 705025, 314614, 217471, 361807, 314408, 677363, 185230, 578733, 190776, 235655, 402856, 170036, 151450, 269020, 151534, 76794, 76794, 76835, 293855, 436978, 217481, 314613, 711683, 315981, 489654, 95798, 833838, 314612, 21116, 558202, 671323, 20980, 109071, 167528, 110259, 95909, 76253, 168801, 675234, 20257, 556790, 301102, 473766, 362542, 110015, 137670, 832597, 708297, 143228, 268267]</td>\n",
       "    </tr>\n",
       "    <tr>\n",
       "      <th>2</th>\n",
       "      <td>2</td>\n",
       "      <td>00mike00</td>\n",
       "      <td>1.0</td>\n",
       "      <td>NaN</td>\n",
       "      <td>[502260]</td>\n",
       "    </tr>\n",
       "    <tr>\n",
       "      <th>3</th>\n",
       "      <td>3</td>\n",
       "      <td>0101craign0101</td>\n",
       "      <td>71.0</td>\n",
       "      <td>US</td>\n",
       "      <td>[22041, 167368, 366808, 400096, 133690, 431402, 419314, 12318, 472988, 206465, 167693, 158380, 84062, 256059, 398609, 260897, 8903, 300627, 452568, 277719, 13283, 347327, 89116, 404762, 322498, 58183, 357481, 29624, 312681, 129539, 13062, 72307, 495616, 472622, 372153, 430771, 54354, 64417, 56458, 79428, 349925, 8906, 361938, 101779, 226831, 180529, 30596, 91947, 116365, 83825, 7198, 293450, 142839, 373353, 242722, 62775, 495777, 62592, 474862, 199877, 136208, 383846, 12243, 456304, 62906, 329128, 114118, 215383, 7450, 1114578, 507812]</td>\n",
       "    </tr>\n",
       "    <tr>\n",
       "      <th>4</th>\n",
       "      <td>4</td>\n",
       "      <td>013023</td>\n",
       "      <td>1.0</td>\n",
       "      <td>NaN</td>\n",
       "      <td>[1730367]</td>\n",
       "    </tr>\n",
       "  </tbody>\n",
       "</table></div>"
      ],
      "text/plain": [
       "   Unnamed: 0         LENDERS  LOANS_MADE LENDER_COUNTRY_CODE  \\\n",
       "0           0           00000        39.0                  DE   \n",
       "1           1            0002        70.0                  US   \n",
       "2           2        00mike00         1.0                 NaN   \n",
       "3           3  0101craign0101        71.0                  US   \n",
       "4           4          013023         1.0                 NaN   \n",
       "\n",
       "                                             LOAN_ID  \n",
       "0  [197839, 164672, 163179, 195614, 161671, 18683...  \n",
       "1  [137698, 711591, 272120, 293916, 248805, 76650...  \n",
       "2                                           [502260]  \n",
       "3  [22041, 167368, 366808, 400096, 133690, 431402...  \n",
       "4                                          [1730367]  "
      ]
     },
     "execution_count": 109,
     "metadata": {},
     "output_type": "execute_result"
    }
   ],
   "source": [
    "user_eda.head()"
   ]
  },
  {
   "cell_type": "markdown",
   "id": "f2168720-25a0-4f90-856e-05920e040f46",
   "metadata": {},
   "source": [
    "##### Remove '[]' from the LOAN_ID column"
   ]
  },
  {
   "cell_type": "code",
   "execution_count": 317,
   "id": "eab4c362-59b0-4cd5-b17a-809032ba4d12",
   "metadata": {},
   "outputs": [],
   "source": [
    "user_eda['LOAN_ID'] = user_eda['LOAN_ID'].str.strip(\"[]\")"
   ]
  },
  {
   "cell_type": "markdown",
   "id": "fa4a74a8-a92f-44bf-8f55-220929dc688f",
   "metadata": {},
   "source": [
    "##### Save user_eda to CSV"
   ]
  },
  {
   "cell_type": "code",
   "execution_count": 276,
   "id": "b26dc7fb-1767-4fe4-975c-6af91b6534dd",
   "metadata": {},
   "outputs": [],
   "source": [
    "user_eda.to_csv('user_eda.csv')"
   ]
  },
  {
   "cell_type": "markdown",
   "id": "96e89a34-6f79-46d7-93f0-6d4b693592c3",
   "metadata": {},
   "source": [
    "#### Creating reduced dataframe filtered on loans made between 10 & 100"
   ]
  },
  {
   "cell_type": "markdown",
   "id": "e2707dc9-dfd0-4422-afd8-a5417c5b4fc9",
   "metadata": {},
   "source": [
    "##### 40.5 million total loans made"
   ]
  },
  {
   "cell_type": "code",
   "execution_count": 17,
   "id": "706ffb58-6d00-4418-95c3-662a8f8b3255",
   "metadata": {},
   "outputs": [
    {
     "data": {
      "text/plain": [
       "40500157.0"
      ]
     },
     "execution_count": 17,
     "metadata": {},
     "output_type": "execute_result"
    }
   ],
   "source": [
    "user_eda.LOANS_MADE.sum()"
   ]
  },
  {
   "cell_type": "code",
   "execution_count": 18,
   "id": "17628b25-10d2-4c06-9823-37bb74708ed9",
   "metadata": {},
   "outputs": [
    {
     "data": {
      "text/plain": [
       "11235930.0"
      ]
     },
     "execution_count": 18,
     "metadata": {},
     "output_type": "execute_result"
    }
   ],
   "source": [
    "user_eda.query(\"(LOANS_MADE > 10) & (LOANS_MADE < 100)\")['LOANS_MADE'].sum()"
   ]
  },
  {
   "cell_type": "code",
   "execution_count": 319,
   "id": "6d17e255-72f9-4237-838f-bdda8e1b65c5",
   "metadata": {},
   "outputs": [],
   "source": [
    "users_10_100 = user_eda.query(\"(LOANS_MADE > 10) & (LOANS_MADE < 100)\")[['LENDERS', 'LOAN_ID']]"
   ]
  },
  {
   "cell_type": "code",
   "execution_count": 321,
   "id": "8d36c116-44ce-475a-acff-807c6576625e",
   "metadata": {},
   "outputs": [],
   "source": [
    "users_10_100.to_csv('users10_100.csv')"
   ]
  },
  {
   "cell_type": "code",
   "execution_count": 320,
   "id": "90bb3b3d-27c6-4a5b-93c5-7002fc948307",
   "metadata": {},
   "outputs": [
    {
     "data": {
      "text/html": [
       "<div><div id=16c04af7-59a9-4632-b3ae-f017e71d4a7f style=\"display:none; background-color:#9D6CFF; color:white; width:200px; height:30px; padding-left:5px; border-radius:4px; flex-direction:row; justify-content:space-around; align-items:center;\" onmouseover=\"this.style.backgroundColor='#BA9BF8'\" onmouseout=\"this.style.backgroundColor='#9D6CFF'\" onclick=\"window.commands?.execute('create-mitosheet-from-dataframe-output');\">See Full Dataframe in Mito</div> <script> if (window.commands.hasCommand('create-mitosheet-from-dataframe-output')) document.getElementById('16c04af7-59a9-4632-b3ae-f017e71d4a7f').style.display = 'flex' </script> <table border=\"1\" class=\"dataframe\">\n",
       "  <thead>\n",
       "    <tr style=\"text-align: right;\">\n",
       "      <th></th>\n",
       "      <th>LENDERS</th>\n",
       "      <th>LOAN_ID</th>\n",
       "    </tr>\n",
       "  </thead>\n",
       "  <tbody>\n",
       "    <tr>\n",
       "      <th>0</th>\n",
       "      <td>00000</td>\n",
       "      <td>197839, 164672, 163179, 195614, 161671, 186831, 186026, 163925, 158238, 162968, 152732, 158749, 157653, 163534, 161416, 163724, 161077, 162762, 163713, 163579, 195013, 158076, 166748, 163530, 195067, 170826, 189240, 155775, 163169, 165254, 158377, 163566, 162262, 162813, 163200, 157424, 159976, 163646, 162855</td>\n",
       "    </tr>\n",
       "    <tr>\n",
       "      <th>1</th>\n",
       "      <td>0002</td>\n",
       "      <td>137698, 711591, 272120, 293916, 248805, 76650, 76650, 349696, 293876, 169464, 489656, 152862, 561404, 170354, 268050, 393505, 208527, 182390, 293935, 703777, 705025, 314614, 217471, 361807, 314408, 677363, 185230, 578733, 190776, 235655, 402856, 170036, 151450, 269020, 151534, 76794, 76794, 76835, 293855, 436978, 217481, 314613, 711683, 315981, 489654, 95798, 833838, 314612, 21116, 558202, 671323, 20980, 109071, 167528, 110259, 95909, 76253, 168801, 675234, 20257, 556790, 301102, 473766, 362542, 110015, 137670, 832597, 708297, 143228, 268267</td>\n",
       "    </tr>\n",
       "    <tr>\n",
       "      <th>3</th>\n",
       "      <td>0101craign0101</td>\n",
       "      <td>22041, 167368, 366808, 400096, 133690, 431402, 419314, 12318, 472988, 206465, 167693, 158380, 84062, 256059, 398609, 260897, 8903, 300627, 452568, 277719, 13283, 347327, 89116, 404762, 322498, 58183, 357481, 29624, 312681, 129539, 13062, 72307, 495616, 472622, 372153, 430771, 54354, 64417, 56458, 79428, 349925, 8906, 361938, 101779, 226831, 180529, 30596, 91947, 116365, 83825, 7198, 293450, 142839, 373353, 242722, 62775, 495777, 62592, 474862, 199877, 136208, 383846, 12243, 456304, 62906, 329128, 114118, 215383, 7450, 1114578, 507812</td>\n",
       "    </tr>\n",
       "    <tr>\n",
       "      <th>45</th>\n",
       "      <td>05092021</td>\n",
       "      <td>2166723, 2176851, 2167054, 2139570, 2176907, 2152095, 2164558, 2170473, 2196406, 2196406, 2176796, 2149702, 2169832, 2215354, 2154002, 2178113, 2153628, 2135219, 2150658, 2155583, 2151932, 2152642, 2172351, 2195857, 2195857, 2157648, 2146388, 2148916, 2159529, 2165156, 2156025, 2203582, 2187402, 2163235, 2159595, 2154841, 2163725, 2181840, 2172641, 2171359, 2155491, 2166905, 2148830, 2164217, 2153837, 2149795, 2146739, 2161607, 2169410, 2150004, 2177847, 2136018, 2163568, 2169315, 2189039, 2182257, 2167500, 2166415, 2169471, 2162443, 2171212, 2174563, 2140971, 2140971, 2167902, 2233633, 2175766, 2168840, 2141786, 2162966, 2150550, 2161787, 2191803, 2167696, 2150841, 2168212, 2141535, 2161873, 2169839, 2159825</td>\n",
       "    </tr>\n",
       "    <tr>\n",
       "      <th>65</th>\n",
       "      <td>070707Weddingtablegifts</td>\n",
       "      <td>290446, 448003, 447505, 170303, 78210, 13513, 678603, 533608, 967648, 536341, 291479, 964358, 123240, 123240, 291965, 364420, 439676, 122873, 13385, 170170, 291473, 536411, 122580, 122580, 288684, 447864, 964447, 123593, 225180, 225180, 123592, 291846, 964452, 372130, 590674, 123613, 13659, 372694, 535171, 123570, 13368, 447125, 593716, 122879, 122879, 77921, 291961, 447580, 447580, 291765, 372651, 170346, 593677, 289474, 372613, 366944, 72058, 372775, 77647, 78218, 13433, 536362</td>\n",
       "    </tr>\n",
       "  </tbody>\n",
       "</table></div>"
      ],
      "text/plain": [
       "                    LENDERS                                            LOAN_ID\n",
       "0                     00000  197839, 164672, 163179, 195614, 161671, 186831...\n",
       "1                      0002  137698, 711591, 272120, 293916, 248805, 76650,...\n",
       "3            0101craign0101  22041, 167368, 366808, 400096, 133690, 431402,...\n",
       "45                 05092021  2166723, 2176851, 2167054, 2139570, 2176907, 2...\n",
       "65  070707Weddingtablegifts  290446, 448003, 447505, 170303, 78210, 13513, ..."
      ]
     },
     "execution_count": 320,
     "metadata": {},
     "output_type": "execute_result"
    }
   ],
   "source": [
    "users_10_100.head()"
   ]
  },
  {
   "cell_type": "code",
   "execution_count": 322,
   "id": "6bee78b7-82d2-44a1-91e9-505feebdc77c",
   "metadata": {},
   "outputs": [],
   "source": [
    "users_10_100['LOAN_ID'] = users_10_100['LOAN_ID'].str.split(', ')"
   ]
  },
  {
   "cell_type": "code",
   "execution_count": 323,
   "id": "1190a75d-cd7e-42d4-aa58-367b687bce4d",
   "metadata": {},
   "outputs": [
    {
     "data": {
      "text/plain": [
       "(361895, 2)"
      ]
     },
     "execution_count": 323,
     "metadata": {},
     "output_type": "execute_result"
    }
   ],
   "source": [
    "users_10_100.shape"
   ]
  },
  {
   "cell_type": "code",
   "execution_count": 328,
   "id": "91fd8c04-3799-4b00-a9b2-a4b89da9dc2a",
   "metadata": {},
   "outputs": [],
   "source": [
    "test10 = users_10_100.explode('LOAN_ID')"
   ]
  },
  {
   "cell_type": "code",
   "execution_count": 329,
   "id": "816d5a3f-6fe8-483f-a684-996b3ad4b0f1",
   "metadata": {},
   "outputs": [
    {
     "data": {
      "text/plain": [
       "(11235930, 2)"
      ]
     },
     "execution_count": 329,
     "metadata": {},
     "output_type": "execute_result"
    }
   ],
   "source": [
    "test10.shape"
   ]
  },
  {
   "cell_type": "code",
   "execution_count": 18,
   "id": "d944cf3a-765f-4ba8-8948-623b3069f549",
   "metadata": {},
   "outputs": [],
   "source": [
    "user_eda = pd.read_csv('user_eda.csv')"
   ]
  },
  {
   "cell_type": "code",
   "execution_count": 19,
   "id": "431bbb4c-a1bb-4ff2-9671-d5f8ecfeedd7",
   "metadata": {},
   "outputs": [],
   "source": [
    "users_25_50 = user_eda.query(\"(LOANS_MADE > 25) & (LOANS_MADE < 30)\")[['LENDERS', 'LOAN_ID']]"
   ]
  },
  {
   "cell_type": "code",
   "execution_count": 20,
   "id": "3c06ead9-ae82-4ad5-a247-69f4c521bfb8",
   "metadata": {},
   "outputs": [],
   "source": [
    "users_25_50['LOAN_ID'] = users_25_50['LOAN_ID'].str.split(', ')"
   ]
  },
  {
   "cell_type": "code",
   "execution_count": 339,
   "id": "18847ba4-5764-468a-b14c-3f2cf9e1f153",
   "metadata": {},
   "outputs": [],
   "source": [
    "users_25_50.to_csv('users25_50.csv')"
   ]
  },
  {
   "cell_type": "code",
   "execution_count": 21,
   "id": "29cbdb9c-718d-4230-9630-65b0d1a22a4c",
   "metadata": {},
   "outputs": [],
   "source": [
    "test25 = users_25_50.explode('LOAN_ID')"
   ]
  },
  {
   "cell_type": "code",
   "execution_count": 22,
   "id": "427ae167-71c7-4759-94b4-a7cfa42d37ab",
   "metadata": {},
   "outputs": [
    {
     "data": {
      "text/plain": [
       "(696276, 2)"
      ]
     },
     "execution_count": 22,
     "metadata": {},
     "output_type": "execute_result"
    }
   ],
   "source": [
    "test25.shape"
   ]
  },
  {
   "cell_type": "code",
   "execution_count": 23,
   "id": "3d6f0ed7-af9e-46ac-9043-b778b0f5da1d",
   "metadata": {},
   "outputs": [],
   "source": [
    "test25['COUNT'] = 1"
   ]
  },
  {
   "cell_type": "code",
   "execution_count": 24,
   "id": "58c51b2f-97a0-4d4e-87df-d0f68cec759e",
   "metadata": {},
   "outputs": [],
   "source": [
    "test25.to_csv('test25.csv')"
   ]
  },
  {
   "cell_type": "markdown",
   "id": "0230bb12-cd6b-45f4-8760-a5f79da419f6",
   "metadata": {},
   "source": [
    "### Creating a Kiva Team Recommender Based on Users"
   ]
  },
  {
   "cell_type": "code",
   "execution_count": 14,
   "id": "1b533b41-5a11-4fb5-9d20-e437bc17db36",
   "metadata": {},
   "outputs": [
    {
     "data": {
      "text/html": [
       "<div><div id=b2ec9b8f-3a44-4ec9-8bdf-e8b43cb8d03e style=\"display:none; background-color:#9D6CFF; color:white; width:200px; height:30px; padding-left:5px; border-radius:4px; flex-direction:row; justify-content:space-around; align-items:center;\" onmouseover=\"this.style.backgroundColor='#BA9BF8'\" onmouseout=\"this.style.backgroundColor='#9D6CFF'\" onclick=\"window.commands?.execute('create-mitosheet-from-dataframe-output');\">See Full Dataframe in Mito</div> <script> if (window.commands.hasCommand('create-mitosheet-from-dataframe-output')) document.getElementById('b2ec9b8f-3a44-4ec9-8bdf-e8b43cb8d03e').style.display = 'flex' </script> <table border=\"1\" class=\"dataframe\">\n",
       "  <thead>\n",
       "    <tr style=\"text-align: right;\">\n",
       "      <th>LOAN_ID</th>\n",
       "      <th>1000006</th>\n",
       "      <th>1000016</th>\n",
       "      <th>1000029</th>\n",
       "      <th>1000042</th>\n",
       "      <th>1000047</th>\n",
       "      <th>1000048</th>\n",
       "      <th>1000066</th>\n",
       "      <th>1000079</th>\n",
       "      <th>1000082</th>\n",
       "      <th>1000086</th>\n",
       "      <th>...</th>\n",
       "      <th>999870</th>\n",
       "      <th>999890</th>\n",
       "      <th>999894</th>\n",
       "      <th>999907</th>\n",
       "      <th>999925</th>\n",
       "      <th>999927</th>\n",
       "      <th>999933</th>\n",
       "      <th>999966</th>\n",
       "      <th>999980</th>\n",
       "      <th>999983</th>\n",
       "    </tr>\n",
       "    <tr>\n",
       "      <th>LENDERS</th>\n",
       "      <th></th>\n",
       "      <th></th>\n",
       "      <th></th>\n",
       "      <th></th>\n",
       "      <th></th>\n",
       "      <th></th>\n",
       "      <th></th>\n",
       "      <th></th>\n",
       "      <th></th>\n",
       "      <th></th>\n",
       "      <th></th>\n",
       "      <th></th>\n",
       "      <th></th>\n",
       "      <th></th>\n",
       "      <th></th>\n",
       "      <th></th>\n",
       "      <th></th>\n",
       "      <th></th>\n",
       "      <th></th>\n",
       "      <th></th>\n",
       "      <th></th>\n",
       "    </tr>\n",
       "  </thead>\n",
       "  <tbody>\n",
       "    <tr>\n",
       "      <th>11220</th>\n",
       "      <td>0</td>\n",
       "      <td>0</td>\n",
       "      <td>0</td>\n",
       "      <td>0</td>\n",
       "      <td>0</td>\n",
       "      <td>0</td>\n",
       "      <td>0</td>\n",
       "      <td>0</td>\n",
       "      <td>0</td>\n",
       "      <td>0</td>\n",
       "      <td>...</td>\n",
       "      <td>0</td>\n",
       "      <td>0</td>\n",
       "      <td>0</td>\n",
       "      <td>0</td>\n",
       "      <td>0</td>\n",
       "      <td>0</td>\n",
       "      <td>0</td>\n",
       "      <td>0</td>\n",
       "      <td>0</td>\n",
       "      <td>0</td>\n",
       "    </tr>\n",
       "    <tr>\n",
       "      <th>1904justin</th>\n",
       "      <td>0</td>\n",
       "      <td>0</td>\n",
       "      <td>0</td>\n",
       "      <td>0</td>\n",
       "      <td>0</td>\n",
       "      <td>0</td>\n",
       "      <td>0</td>\n",
       "      <td>0</td>\n",
       "      <td>0</td>\n",
       "      <td>0</td>\n",
       "      <td>...</td>\n",
       "      <td>0</td>\n",
       "      <td>0</td>\n",
       "      <td>0</td>\n",
       "      <td>0</td>\n",
       "      <td>0</td>\n",
       "      <td>0</td>\n",
       "      <td>0</td>\n",
       "      <td>0</td>\n",
       "      <td>0</td>\n",
       "      <td>0</td>\n",
       "    </tr>\n",
       "    <tr>\n",
       "      <th>222</th>\n",
       "      <td>0</td>\n",
       "      <td>0</td>\n",
       "      <td>0</td>\n",
       "      <td>0</td>\n",
       "      <td>0</td>\n",
       "      <td>0</td>\n",
       "      <td>0</td>\n",
       "      <td>0</td>\n",
       "      <td>0</td>\n",
       "      <td>0</td>\n",
       "      <td>...</td>\n",
       "      <td>0</td>\n",
       "      <td>0</td>\n",
       "      <td>0</td>\n",
       "      <td>0</td>\n",
       "      <td>0</td>\n",
       "      <td>0</td>\n",
       "      <td>0</td>\n",
       "      <td>0</td>\n",
       "      <td>0</td>\n",
       "      <td>0</td>\n",
       "    </tr>\n",
       "    <tr>\n",
       "      <th>2viljoens</th>\n",
       "      <td>0</td>\n",
       "      <td>0</td>\n",
       "      <td>0</td>\n",
       "      <td>0</td>\n",
       "      <td>0</td>\n",
       "      <td>0</td>\n",
       "      <td>0</td>\n",
       "      <td>0</td>\n",
       "      <td>0</td>\n",
       "      <td>0</td>\n",
       "      <td>...</td>\n",
       "      <td>0</td>\n",
       "      <td>0</td>\n",
       "      <td>0</td>\n",
       "      <td>0</td>\n",
       "      <td>0</td>\n",
       "      <td>0</td>\n",
       "      <td>0</td>\n",
       "      <td>0</td>\n",
       "      <td>0</td>\n",
       "      <td>0</td>\n",
       "    </tr>\n",
       "    <tr>\n",
       "      <th>31415926</th>\n",
       "      <td>0</td>\n",
       "      <td>0</td>\n",
       "      <td>0</td>\n",
       "      <td>0</td>\n",
       "      <td>0</td>\n",
       "      <td>0</td>\n",
       "      <td>0</td>\n",
       "      <td>0</td>\n",
       "      <td>0</td>\n",
       "      <td>0</td>\n",
       "      <td>...</td>\n",
       "      <td>0</td>\n",
       "      <td>0</td>\n",
       "      <td>0</td>\n",
       "      <td>0</td>\n",
       "      <td>0</td>\n",
       "      <td>0</td>\n",
       "      <td>0</td>\n",
       "      <td>0</td>\n",
       "      <td>0</td>\n",
       "      <td>0</td>\n",
       "    </tr>\n",
       "  </tbody>\n",
       "</table></div>"
      ],
      "text/plain": [
       "LOAN_ID     1000006  1000016  1000029  1000042  1000047  1000048  1000066  \\\n",
       "LENDERS                                                                     \n",
       "11220             0        0        0        0        0        0        0   \n",
       "1904justin        0        0        0        0        0        0        0   \n",
       "222               0        0        0        0        0        0        0   \n",
       "2viljoens         0        0        0        0        0        0        0   \n",
       "31415926          0        0        0        0        0        0        0   \n",
       "\n",
       "LOAN_ID     1000079  1000082  1000086  ...  999870  999890  999894  999907  \\\n",
       "LENDERS                                ...                                   \n",
       "11220             0        0        0  ...       0       0       0       0   \n",
       "1904justin        0        0        0  ...       0       0       0       0   \n",
       "222               0        0        0  ...       0       0       0       0   \n",
       "2viljoens         0        0        0  ...       0       0       0       0   \n",
       "31415926          0        0        0  ...       0       0       0       0   \n",
       "\n",
       "LOAN_ID     999925  999927  999933  999966  999980  999983  \n",
       "LENDERS                                                     \n",
       "11220            0       0       0       0       0       0  \n",
       "1904justin       0       0       0       0       0       0  \n",
       "222              0       0       0       0       0       0  \n",
       "2viljoens        0       0       0       0       0       0  \n",
       "31415926         0       0       0       0       0       0  \n",
       "\n",
       "[5 rows x 170814 columns]"
      ]
     },
     "execution_count": 14,
     "metadata": {},
     "output_type": "execute_result"
    }
   ],
   "source": [
    "table = pd.pivot_table(test25.head(200000), values='COUNT', index=['LENDERS'],\n",
    "                       columns=['LOAN_ID'], aggfunc=np.sum, fill_value=0)\n",
    "\n",
    "table.head()\n",
    "table.to_csv('users_pivot_table.csv')"
   ]
  },
  {
   "cell_type": "code",
   "execution_count": 17,
   "id": "acac0af7-ee95-4ed5-974e-5c546bce60d6",
   "metadata": {},
   "outputs": [
    {
     "data": {
      "text/plain": [
       "(7293, 170814)"
      ]
     },
     "execution_count": 17,
     "metadata": {},
     "output_type": "execute_result"
    }
   ],
   "source": [
    "table.shape"
   ]
  },
  {
   "cell_type": "code",
   "execution_count": 25,
   "id": "e68e829c-6423-4f6e-8d5e-e55c840c7029",
   "metadata": {},
   "outputs": [],
   "source": [
    "from scipy import sparse\n",
    "data_sparse = sparse.csr_matrix(table)"
   ]
  },
  {
   "cell_type": "code",
   "execution_count": 32,
   "id": "70f0703e-8410-4518-93bd-a737a31aeed5",
   "metadata": {},
   "outputs": [
    {
     "name": "stdout",
     "output_type": "stream",
     "text": [
      "  (0, 5286)\t1\n",
      "  (0, 5782)\t1\n",
      "  (0, 5876)\t1\n",
      "  (0, 6384)\t1\n",
      "  (0, 6549)\t1\n",
      "  (0, 6672)\t1\n",
      "  (0, 92210)\t1\n",
      "  (0, 92554)\t1\n",
      "  (0, 93235)\t1\n",
      "  (0, 94657)\t1\n",
      "  (0, 94690)\t1\n",
      "  (0, 94694)\t1\n",
      "  (0, 94741)\t1\n",
      "  (0, 94759)\t1\n",
      "  (0, 100050)\t1\n",
      "  (0, 100085)\t1\n",
      "  (0, 100170)\t1\n",
      "  (0, 102264)\t1\n",
      "  (0, 103697)\t1\n",
      "  (0, 106190)\t1\n",
      "  (0, 109245)\t1\n",
      "  (0, 110632)\t1\n",
      "  (0, 113024)\t1\n",
      "  (0, 115023)\t1\n",
      "  (0, 118432)\t1\n",
      "  :\t:\n",
      "  (7291, 7502)\t1\n",
      "  (7291, 7600)\t1\n",
      "  (7291, 7818)\t1\n",
      "  (7291, 8305)\t1\n",
      "  (7291, 8397)\t1\n",
      "  (7291, 14818)\t1\n",
      "  (7291, 14853)\t1\n",
      "  (7291, 16148)\t1\n",
      "  (7291, 24893)\t1\n",
      "  (7291, 24900)\t1\n",
      "  (7291, 38040)\t1\n",
      "  (7291, 38133)\t1\n",
      "  (7291, 38379)\t1\n",
      "  (7291, 40611)\t1\n",
      "  (7291, 44852)\t1\n",
      "  (7291, 93354)\t1\n",
      "  (7291, 137092)\t1\n",
      "  (7291, 165621)\t1\n",
      "  (7291, 165718)\t1\n",
      "  (7291, 165722)\t1\n",
      "  (7291, 165782)\t1\n",
      "  (7291, 165801)\t1\n",
      "  (7291, 166495)\t1\n",
      "  (7291, 169495)\t1\n",
      "  (7292, 94574)\t1\n"
     ]
    }
   ],
   "source": [
    "print(data_sparse)"
   ]
  },
  {
   "cell_type": "code",
   "execution_count": 35,
   "id": "e1a41d12-9f0e-41a3-9146-3fae81116f59",
   "metadata": {},
   "outputs": [
    {
     "data": {
      "text/plain": [
       "array([[0., 1., 1., ..., 1., 1., 1.],\n",
       "       [1., 0., 1., ..., 1., 1., 1.],\n",
       "       [1., 1., 0., ..., 1., 1., 1.],\n",
       "       ...,\n",
       "       [1., 1., 1., ..., 0., 1., 1.],\n",
       "       [1., 1., 1., ..., 1., 0., 1.],\n",
       "       [1., 1., 1., ..., 1., 1., 0.]])"
      ]
     },
     "execution_count": 35,
     "metadata": {},
     "output_type": "execute_result"
    }
   ],
   "source": [
    "from sklearn.metrics.pairwise import pairwise_distances, cosine_distances, cosine_similarity\n",
    "dists = pairwise_distances(data_sparse, metric = 'cosine')\n",
    "dists"
   ]
  },
  {
   "cell_type": "code",
   "execution_count": 26,
   "id": "7d739bfe-c362-40b2-84aa-fd7780dca064",
   "metadata": {},
   "outputs": [],
   "source": [
    "from sklearn.metrics.pairwise import cosine_similarity\n",
    "\n",
    "# calculate similarity between each row (user x loans)\n",
    "similarities_sparse = cosine_similarity(data_sparse, dense_output=False)"
   ]
  },
  {
   "cell_type": "code",
   "execution_count": 173,
   "id": "eaa03c1b-0f28-4b46-8525-9a82faf1cb54",
   "metadata": {},
   "outputs": [
    {
     "data": {
      "text/html": [
       "<div><div id=dfa40d6c-feb9-4b3c-9b7d-3fcbc79d9cbf style=\"display:none; background-color:#9D6CFF; color:white; width:200px; height:30px; padding-left:5px; border-radius:4px; flex-direction:row; justify-content:space-around; align-items:center;\" onmouseover=\"this.style.backgroundColor='#BA9BF8'\" onmouseout=\"this.style.backgroundColor='#9D6CFF'\" onclick=\"window.commands?.execute('create-mitosheet-from-dataframe-output');\">See Full Dataframe in Mito</div> <script> if (window.commands.hasCommand('create-mitosheet-from-dataframe-output')) document.getElementById('dfa40d6c-feb9-4b3c-9b7d-3fcbc79d9cbf').style.display = 'flex' </script> <table border=\"1\" class=\"dataframe\">\n",
       "  <thead>\n",
       "    <tr style=\"text-align: right;\">\n",
       "      <th>LENDERS</th>\n",
       "      <th>11220</th>\n",
       "      <th>1904justin</th>\n",
       "      <th>222</th>\n",
       "      <th>2viljoens</th>\n",
       "      <th>31415926</th>\n",
       "      <th>3todd</th>\n",
       "      <th>441nw8926</th>\n",
       "      <th>7m7558</th>\n",
       "      <th>7snqc6612</th>\n",
       "      <th>9858</th>\n",
       "      <th>...</th>\n",
       "      <th>emily9111</th>\n",
       "      <th>emily91743266</th>\n",
       "      <th>emily91811826</th>\n",
       "      <th>emily9210</th>\n",
       "      <th>emily9219</th>\n",
       "      <th>emily9341</th>\n",
       "      <th>emily94404803</th>\n",
       "      <th>emily9499</th>\n",
       "      <th>emily9627</th>\n",
       "      <th>emily98907142</th>\n",
       "    </tr>\n",
       "    <tr>\n",
       "      <th>LENDERS</th>\n",
       "      <th></th>\n",
       "      <th></th>\n",
       "      <th></th>\n",
       "      <th></th>\n",
       "      <th></th>\n",
       "      <th></th>\n",
       "      <th></th>\n",
       "      <th></th>\n",
       "      <th></th>\n",
       "      <th></th>\n",
       "      <th></th>\n",
       "      <th></th>\n",
       "      <th></th>\n",
       "      <th></th>\n",
       "      <th></th>\n",
       "      <th></th>\n",
       "      <th></th>\n",
       "      <th></th>\n",
       "      <th></th>\n",
       "      <th></th>\n",
       "      <th></th>\n",
       "    </tr>\n",
       "  </thead>\n",
       "  <tbody>\n",
       "    <tr>\n",
       "      <th>11220</th>\n",
       "      <td>0.0</td>\n",
       "      <td>1.0</td>\n",
       "      <td>1.0</td>\n",
       "      <td>1.0</td>\n",
       "      <td>1.0</td>\n",
       "      <td>1.0</td>\n",
       "      <td>1.0</td>\n",
       "      <td>1.0</td>\n",
       "      <td>1.0</td>\n",
       "      <td>1.0</td>\n",
       "      <td>...</td>\n",
       "      <td>1.0</td>\n",
       "      <td>1.0</td>\n",
       "      <td>1.0</td>\n",
       "      <td>1.0</td>\n",
       "      <td>1.0</td>\n",
       "      <td>1.0</td>\n",
       "      <td>1.0</td>\n",
       "      <td>1.0</td>\n",
       "      <td>1.0</td>\n",
       "      <td>1.0</td>\n",
       "    </tr>\n",
       "    <tr>\n",
       "      <th>1904justin</th>\n",
       "      <td>1.0</td>\n",
       "      <td>0.0</td>\n",
       "      <td>1.0</td>\n",
       "      <td>1.0</td>\n",
       "      <td>1.0</td>\n",
       "      <td>1.0</td>\n",
       "      <td>1.0</td>\n",
       "      <td>1.0</td>\n",
       "      <td>1.0</td>\n",
       "      <td>1.0</td>\n",
       "      <td>...</td>\n",
       "      <td>1.0</td>\n",
       "      <td>1.0</td>\n",
       "      <td>1.0</td>\n",
       "      <td>1.0</td>\n",
       "      <td>1.0</td>\n",
       "      <td>1.0</td>\n",
       "      <td>1.0</td>\n",
       "      <td>1.0</td>\n",
       "      <td>1.0</td>\n",
       "      <td>1.0</td>\n",
       "    </tr>\n",
       "    <tr>\n",
       "      <th>222</th>\n",
       "      <td>1.0</td>\n",
       "      <td>1.0</td>\n",
       "      <td>0.0</td>\n",
       "      <td>1.0</td>\n",
       "      <td>1.0</td>\n",
       "      <td>1.0</td>\n",
       "      <td>1.0</td>\n",
       "      <td>1.0</td>\n",
       "      <td>1.0</td>\n",
       "      <td>1.0</td>\n",
       "      <td>...</td>\n",
       "      <td>1.0</td>\n",
       "      <td>1.0</td>\n",
       "      <td>1.0</td>\n",
       "      <td>1.0</td>\n",
       "      <td>1.0</td>\n",
       "      <td>1.0</td>\n",
       "      <td>1.0</td>\n",
       "      <td>1.0</td>\n",
       "      <td>1.0</td>\n",
       "      <td>1.0</td>\n",
       "    </tr>\n",
       "    <tr>\n",
       "      <th>2viljoens</th>\n",
       "      <td>1.0</td>\n",
       "      <td>1.0</td>\n",
       "      <td>1.0</td>\n",
       "      <td>0.0</td>\n",
       "      <td>1.0</td>\n",
       "      <td>1.0</td>\n",
       "      <td>1.0</td>\n",
       "      <td>1.0</td>\n",
       "      <td>1.0</td>\n",
       "      <td>1.0</td>\n",
       "      <td>...</td>\n",
       "      <td>1.0</td>\n",
       "      <td>1.0</td>\n",
       "      <td>1.0</td>\n",
       "      <td>1.0</td>\n",
       "      <td>1.0</td>\n",
       "      <td>1.0</td>\n",
       "      <td>1.0</td>\n",
       "      <td>1.0</td>\n",
       "      <td>1.0</td>\n",
       "      <td>1.0</td>\n",
       "    </tr>\n",
       "    <tr>\n",
       "      <th>31415926</th>\n",
       "      <td>1.0</td>\n",
       "      <td>1.0</td>\n",
       "      <td>1.0</td>\n",
       "      <td>1.0</td>\n",
       "      <td>0.0</td>\n",
       "      <td>1.0</td>\n",
       "      <td>1.0</td>\n",
       "      <td>1.0</td>\n",
       "      <td>1.0</td>\n",
       "      <td>1.0</td>\n",
       "      <td>...</td>\n",
       "      <td>1.0</td>\n",
       "      <td>1.0</td>\n",
       "      <td>1.0</td>\n",
       "      <td>1.0</td>\n",
       "      <td>1.0</td>\n",
       "      <td>1.0</td>\n",
       "      <td>1.0</td>\n",
       "      <td>1.0</td>\n",
       "      <td>1.0</td>\n",
       "      <td>1.0</td>\n",
       "    </tr>\n",
       "  </tbody>\n",
       "</table></div>"
      ],
      "text/plain": [
       "LENDERS     11220  1904justin  222  2viljoens  31415926  3todd  441nw8926  \\\n",
       "LENDERS                                                                     \n",
       "11220         0.0         1.0  1.0        1.0       1.0    1.0        1.0   \n",
       "1904justin    1.0         0.0  1.0        1.0       1.0    1.0        1.0   \n",
       "222           1.0         1.0  0.0        1.0       1.0    1.0        1.0   \n",
       "2viljoens     1.0         1.0  1.0        0.0       1.0    1.0        1.0   \n",
       "31415926      1.0         1.0  1.0        1.0       0.0    1.0        1.0   \n",
       "\n",
       "LENDERS     7m7558  7snqc6612  9858  ...  emily9111  emily91743266  \\\n",
       "LENDERS                              ...                             \n",
       "11220          1.0        1.0   1.0  ...        1.0            1.0   \n",
       "1904justin     1.0        1.0   1.0  ...        1.0            1.0   \n",
       "222            1.0        1.0   1.0  ...        1.0            1.0   \n",
       "2viljoens      1.0        1.0   1.0  ...        1.0            1.0   \n",
       "31415926       1.0        1.0   1.0  ...        1.0            1.0   \n",
       "\n",
       "LENDERS     emily91811826  emily9210  emily9219  emily9341  emily94404803  \\\n",
       "LENDERS                                                                     \n",
       "11220                 1.0        1.0        1.0        1.0            1.0   \n",
       "1904justin            1.0        1.0        1.0        1.0            1.0   \n",
       "222                   1.0        1.0        1.0        1.0            1.0   \n",
       "2viljoens             1.0        1.0        1.0        1.0            1.0   \n",
       "31415926              1.0        1.0        1.0        1.0            1.0   \n",
       "\n",
       "LENDERS     emily9499  emily9627  emily98907142  \n",
       "LENDERS                                          \n",
       "11220             1.0        1.0            1.0  \n",
       "1904justin        1.0        1.0            1.0  \n",
       "222               1.0        1.0            1.0  \n",
       "2viljoens         1.0        1.0            1.0  \n",
       "31415926          1.0        1.0            1.0  \n",
       "\n",
       "[5 rows x 7293 columns]"
      ]
     },
     "execution_count": 173,
     "metadata": {},
     "output_type": "execute_result"
    }
   ],
   "source": [
    "team_recommender = pd.DataFrame(dists,\n",
    "                          columns = table.index,\n",
    "                          index = table.index)\n",
    "\n",
    "team_recommender.head()"
   ]
  },
  {
   "cell_type": "code",
   "execution_count": 175,
   "id": "a90c04a0-0370-4539-ad9e-53479c9a5349",
   "metadata": {},
   "outputs": [],
   "source": [
    "team_recommender.to_csv('team_recommender.csv')"
   ]
  },
  {
   "cell_type": "code",
   "execution_count": 161,
   "id": "01bbd607-f90c-493c-8457-52aed82e3594",
   "metadata": {},
   "outputs": [
    {
     "data": {
      "text/plain": [
       "LENDERS\n",
       "don1153                0.963582\n",
       "caluk                  0.963582\n",
       "alison007              0.964263\n",
       "bert8357               0.964263\n",
       "celeste                0.964263\n",
       "catherine1264          0.964263\n",
       "corinna8028            0.964907\n",
       "aurelie9561            0.964907\n",
       "daniel8353             0.965517\n",
       "edna9161               0.966097\n",
       "dawnandalastair1538    0.966648\n",
       "colleen1327            1.000000\n",
       "colleen7281            1.000000\n",
       "colleen6212            1.000000\n",
       "colleen5907            1.000000\n",
       "colleen58521098        1.000000\n",
       "colleen5225            1.000000\n",
       "colleen4773            1.000000\n",
       "colleen4677            1.000000\n",
       "colleen4614            1.000000\n",
       "colleen3506            1.000000\n",
       "colleen1312            1.000000\n",
       "colleen3231            1.000000\n",
       "colleen7424            1.000000\n",
       "Name: 11220, dtype: float64"
      ]
     },
     "execution_count": 161,
     "metadata": {},
     "output_type": "execute_result"
    }
   ],
   "source": [
    "search = '11220'\n",
    "\n",
    "#loans = table[table.index.str.contains(search)].index\n",
    "output = team_recommender[search].sort_values()[1:25]\n",
    "#for loan in loans :\n",
    "#    print (recommender[loan].sort_values()[1:11])\n",
    "output"
   ]
  },
  {
   "cell_type": "code",
   "execution_count": 162,
   "id": "b463931d-11fc-4d68-9434-454be5631089",
   "metadata": {},
   "outputs": [
    {
     "data": {
      "text/plain": [
       "Index(['don1153', 'caluk', 'alison007', 'bert8357', 'celeste', 'catherine1264',\n",
       "       'corinna8028', 'aurelie9561', 'daniel8353', 'edna9161',\n",
       "       'dawnandalastair1538', 'colleen1327', 'colleen7281', 'colleen6212',\n",
       "       'colleen5907', 'colleen58521098', 'colleen5225', 'colleen4773',\n",
       "       'colleen4677', 'colleen4614', 'colleen3506', 'colleen1312',\n",
       "       'colleen3231', 'colleen7424'],\n",
       "      dtype='object', name='LENDERS')"
      ]
     },
     "execution_count": 162,
     "metadata": {},
     "output_type": "execute_result"
    }
   ],
   "source": [
    "output.index"
   ]
  },
  {
   "cell_type": "code",
   "execution_count": 163,
   "id": "b1b73277-6def-4343-ad2d-7b3a04d1fb8f",
   "metadata": {},
   "outputs": [
    {
     "data": {
      "text/plain": [
       "['don1153',\n",
       " 'caluk',\n",
       " 'alison007',\n",
       " 'bert8357',\n",
       " 'celeste',\n",
       " 'catherine1264',\n",
       " 'corinna8028',\n",
       " 'aurelie9561',\n",
       " 'daniel8353',\n",
       " 'edna9161',\n",
       " 'dawnandalastair1538',\n",
       " 'colleen1327',\n",
       " 'colleen7281',\n",
       " 'colleen6212',\n",
       " 'colleen5907',\n",
       " 'colleen58521098',\n",
       " 'colleen5225',\n",
       " 'colleen4773',\n",
       " 'colleen4677',\n",
       " 'colleen4614',\n",
       " 'colleen3506',\n",
       " 'colleen1312',\n",
       " 'colleen3231',\n",
       " 'colleen7424']"
      ]
     },
     "execution_count": 163,
     "metadata": {},
     "output_type": "execute_result"
    }
   ],
   "source": [
    "top_users = []\n",
    "for user in output.index:\n",
    "    top_users.append(user)\n",
    "    \n",
    "top_users"
   ]
  },
  {
   "cell_type": "code",
   "execution_count": 171,
   "id": "3d9fbe32-d08e-48c8-ab4f-f5abe36ca50d",
   "metadata": {},
   "outputs": [
    {
     "name": "stdout",
     "output_type": "stream",
     "text": [
      "Kiva Teams we think you might you like:\n",
      "Bosnia\n",
      "G | Gärtner, Gardeners\n",
      "Team Verdacom\n",
      "Coll's Plants\n",
      "Dave Bickel Memorial\n"
     ]
    }
   ],
   "source": [
    "import requests\n",
    "count = 0\n",
    "print(\"Kiva Teams we think you might you like:\")\n",
    "for user in top_users:\n",
    "    base_url = f'https://api.kivaws.org/v1/lenders/{user}/teams.json'\n",
    "\n",
    "#graphql_query = \"{lend {loan (id: 1568001){id name}}}\"\n",
    "\n",
    "   \n",
    "    try:\n",
    "        r = requests.get(base_url)\n",
    "        r = r.json()\n",
    "        r['teams'][0]['name']\n",
    "        count += 1\n",
    "        print(r['teams'][0]['name'])\n",
    "        if count == 5:\n",
    "            break\n",
    "    except Exception:\n",
    "        pass\n",
    "\n",
    "    "
   ]
  },
  {
   "cell_type": "markdown",
   "id": "8b741877-2367-46e6-bb75-0eda88593a1b",
   "metadata": {},
   "source": [
    "### Using Kiva's API to Get Borrower Profile Picture"
   ]
  },
  {
   "cell_type": "code",
   "execution_count": 228,
   "id": "cd3f309e-35ef-4b51-bba1-b26f977578d6",
   "metadata": {},
   "outputs": [],
   "source": [
    "base_url = 'https://api.kivaws.org/graphql?query='\n",
    "loan_id = 691404\n",
    "#couldn't use f' because of other brackets present, looked up another way : https://realpython.com/python-f-strings/\n",
    "#graphql example query on Kiva's website : https://www.kiva.org/build/docs\n",
    "graphql_query = '{lend {loan (id: %s){id name gender image {id url}  }}}'   %loan_id\n",
    "\n",
    "r = requests.post(base_url+ graphql_query)\n",
    "r = r.json()\n",
    "url = r['data']['lend']['loan']['image']['url']"
   ]
  },
  {
   "cell_type": "code",
   "execution_count": 229,
   "id": "6f8e9e05-2208-4ac8-97d4-69dd1ef99983",
   "metadata": {},
   "outputs": [
    {
     "data": {
      "text/plain": [
       "'https://www-kiva-org-0.freetls.fastly.net/img/s100/5d659734f0880d5c53f2f5887dd9c55c.jpg'"
      ]
     },
     "execution_count": 229,
     "metadata": {},
     "output_type": "execute_result"
    }
   ],
   "source": [
    "r['data']['lend']['loan']['image']['url']"
   ]
  },
  {
   "cell_type": "code",
   "execution_count": 256,
   "id": "58fe300f-f4b1-4fcf-84b9-8316dd873393",
   "metadata": {},
   "outputs": [
    {
     "data": {
      "image/png": "[encoded data removed]",
      "text/plain": [
       "<Figure size 432x288 with 1 Axes>"
      ]
     },
     "metadata": {},
     "output_type": "display_data"
    }
   ],
   "source": [
    "#https://stackoverflow.com/questions/49092390/displaying-getting-images-from-an-url-in-python\n",
    "from PIL import Image\n",
    "from io import BytesIO\n",
    "import matplotlib.pyplot as plt\n",
    "\n",
    "response = requests.get(url)\n",
    "img = Image.open(BytesIO(response.content))\n",
    "#removing ticks from x/y axis : https://www.delftstack.com/howto/matplotlib/how-to-hide-axis-text-ticks-and-or-tick-labels-in-matplotlib/\n",
    "ax = plt.gca()\n",
    "ax.axes.xaxis.set_ticks([])\n",
    "ax.axes.yaxis.set_ticks([])\n",
    "plt.imshow(img)\n",
    "plt.show();"
   ]
  },
  {
   "cell_type": "markdown",
   "id": "4aa667c4-5d4d-4b43-b70c-1aa444b2c79f",
   "metadata": {},
   "source": [
    "### Content Recommender System - Function Displaying Recommended Loans"
   ]
  },
  {
   "cell_type": "code",
   "execution_count": 228,
   "id": "ef13882c-a50f-422b-b8f6-9862624f5d79",
   "metadata": {},
   "outputs": [
    {
     "data": {
      "text/plain": [
       "384482    Nuevo Esfuerzo Group\n",
       "Name: LOAN_NAME, dtype: object"
      ]
     },
     "execution_count": 228,
     "metadata": {},
     "output_type": "execute_result"
    }
   ],
   "source": [
    "df.query(\"LOAN_ID == 158380\")['LOAN_NAME']"
   ]
  },
  {
   "cell_type": "code",
   "execution_count": 264,
   "id": "b6ee785f-8bb9-4ece-a6db-6ab9d39d49e0",
   "metadata": {},
   "outputs": [],
   "source": [
    "# function that takes in rec sys output loan ID and spits out LOAN DETAILS\n",
    "def kiva_output(loan_1, loan_2, loan_3):\n",
    "    #return details from loans_df on each loan : Name, Gender, Loan Amount, Activity/Sector Name, Description, Country\n",
    "    x = df.query(f\"LOAN_ID == {loan_1}\")[['LOAN_NAME', 'BORROWER_GENDERS', 'LOAN_AMOUNT', 'ACTIVITY_NAME', 'SECTOR_NAME', 'DESCRIPTION', 'COUNTRY_NAME']]\n",
    "    y = df.query(f\"LOAN_ID == {loan_2}\")[['LOAN_NAME', 'BORROWER_GENDERS', 'LOAN_AMOUNT', 'ACTIVITY_NAME', 'SECTOR_NAME', 'DESCRIPTION', 'COUNTRY_NAME']]\n",
    "    z = df.query(f\"LOAN_ID == {loan_3}\")[['LOAN_NAME', 'BORROWER_GENDERS', 'LOAN_AMOUNT', 'ACTIVITY_NAME', 'SECTOR_NAME', 'DESCRIPTION', 'COUNTRY_NAME']]\n",
    "    #combine all loan details into one dataframe \n",
    "    final = pd.concat([x, y, z])\n",
    "    return final"
   ]
  },
  {
   "cell_type": "code",
   "execution_count": 265,
   "id": "44fc2800-18f6-4b42-9926-4f9a08a74ca1",
   "metadata": {},
   "outputs": [
    {
     "data": {
      "text/html": [
       "<div><div id=ed1110e8-21d3-43ba-a6ee-dfc3204847d3 style=\"display:none; background-color:#9D6CFF; color:white; width:200px; height:30px; padding-left:5px; border-radius:4px; flex-direction:row; justify-content:space-around; align-items:center;\" onmouseover=\"this.style.backgroundColor='#BA9BF8'\" onmouseout=\"this.style.backgroundColor='#9D6CFF'\" onclick=\"window.commands?.execute('create-mitosheet-from-dataframe-output');\">See Full Dataframe in Mito</div> <script> if (window.commands.hasCommand('create-mitosheet-from-dataframe-output')) document.getElementById('ed1110e8-21d3-43ba-a6ee-dfc3204847d3').style.display = 'flex' </script> <table border=\"1\" class=\"dataframe\">\n",
       "  <thead>\n",
       "    <tr style=\"text-align: right;\">\n",
       "      <th></th>\n",
       "      <th>LOAN_NAME</th>\n",
       "      <th>BORROWER_GENDERS</th>\n",
       "      <th>LOAN_AMOUNT</th>\n",
       "      <th>ACTIVITY_NAME</th>\n",
       "      <th>SECTOR_NAME</th>\n",
       "      <th>DESCRIPTION</th>\n",
       "      <th>COUNTRY_NAME</th>\n",
       "    </tr>\n",
       "  </thead>\n",
       "  <tbody>\n",
       "    <tr>\n",
       "      <th>384482</th>\n",
       "      <td>Nuevo Esfuerzo Group</td>\n",
       "      <td>male, male, male</td>\n",
       "      <td>650.0</td>\n",
       "      <td>Retail</td>\n",
       "      <td>Retail</td>\n",
       "      <td>el grupo el nuevo Esfuerzo esta integrado por 3 hombres los cuales son muy trabajadores, tienen mucho tiempo de conocerce, a continuacion se detalla las diferentes actividades que ellos realizan para ganarse la vida diariamente:\\n\\nJUAN ANTONIO C., es el jefe del grupo, tiene 64 años de edad, esta casado y tuvo 3 hijos en su matrimonio, actualmente el cuenta con un molino para moler maiz, este lo tieen ubicado en su casa de habitacion, atiende en horas de la madrugada ya que el tambien se dedica a realizar trabajos de albañileria despues lo queda atendiendo su esposa, ellos son un matrimonio bien establecido y gracias a los ingresos del molino ellos han sacado a adelante a su familia. ahora el esta solicitando  el credito para mejorar la caseta en donde esta el molino.\\n\\n\\nELIAS ANTONIO C. es comerciante, cuenta con un molino para moler maiz, su negocio esta ubicado en su casa de habitacion, tiene 8 años de dedicarse a este tipo de actividiad y gracias a estos ingresos el puede cubrir los gastos familiares y otros compromisos,  es importante decir que el señor C. sufrio un accidente en una maquina cuando el  trabajaba  para una fabrica de elaboracion de cajas para empacar Puros, la que le corto cuatro dedos de su mano derecha, fue ahi cuando el sintio la necesidad de buscar otra fuente de ingresos ya que no podia seguir trabajando en dicho lugar y hasta el momento el sostiene a su familia, tiene 4 hijos los que con mucho sacrificio ha logrado graduar y otros estan estudiando, actualmente el necesita comprar unos repuestos para el molino.\\n\\nESTEBAN S. su actividad principal es la venta de helados de diferentes sabores, vende conos en diferentes barrios y colonias de la ciudad de Danli, actividad que realiza de manera ambulante  en una bicicleta, tiene varios años de dedicarse a este tipo de actividad que le genera ingresos para cubrir  sus compromisos y gastos familiares, tiene 5 hijos que ya estan casados.\\nEl junto con su esposa siempre siguen luchando por salir adelante, actualmente el solicita un credito para surtir un poco mas su negocio.\\n\\ntodos ellos necesitan el credito para poder salir adelante con sus negocios y sus familias.\\n</td>\n",
       "      <td>Honduras</td>\n",
       "    </tr>\n",
       "    <tr>\n",
       "      <th>10213</th>\n",
       "      <td>Kalpana</td>\n",
       "      <td>female</td>\n",
       "      <td>325.0</td>\n",
       "      <td>Dairy</td>\n",
       "      <td>Agriculture</td>\n",
       "      <td>Kalpana lives in a small village of Falakata, West Bengal. She is an enterprising lady who is 33 years old.  She is married and the mother of two children (one son and one daughter). Her children read in school. Kalpana desires to provide a good education to her children. Thus, she works hard. &lt;br /&gt;&lt;br /&gt;Her husband is engaged in a fruit business and Kalpana has a small dairy farm where she supplies milk and milk products like ghee to different households in their village every day. She also sells cow dung for additional income, which is widely used as manure in rural areas.  She has to work really hard in order to support her family and to bear her children's educational expenses.&lt;br /&gt;&lt;br /&gt;Therefore, she plans to buy another cow to generate more income. Through this, she will be able to serve more customers, thus increase her sales. Kalpana has applied for a loan from Kiva through BJS to buy a dairy cow and fodder to expand her business.&lt;br /&gt;&lt;br /&gt;She hopes that this investment will help her to gain additional income to fulfill her dream of giving a higher education to her children.&lt;br /&gt;&lt;br /&gt;She is thankful to both BJS and Kiva.</td>\n",
       "      <td>India</td>\n",
       "    </tr>\n",
       "    <tr>\n",
       "      <th>161211</th>\n",
       "      <td>XIMENA LILIBETH</td>\n",
       "      <td>female</td>\n",
       "      <td>1575.0</td>\n",
       "      <td>Farming</td>\n",
       "      <td>Agriculture</td>\n",
       "      <td>La señora Ximena una mujer luchadora, es madre soltera su hijita tiene 5 años, la señora Ximena se dedica a la producción de cacao en la finca de sus Padres y también se dedica a la venta de ropa tiene varios años de experiencia en estos negocios las aprendió por iniciativa propia y con la ayuda de sus Padres, a esta actividad le dedica varias horas al día ya que debe distribuir su tiempo en el trabajo y el negocio, solicita el crédito para la compra de insumos y fertilizantes para la finca y su producción.\\nLa señora Ximena agradece  a Kiva por el apoyo y la oportunidad brindada ya que con esta ayuda podrá mejorar sus ingresos y dar un mejor futuro a su hija. \\n</td>\n",
       "      <td>Ecuador</td>\n",
       "    </tr>\n",
       "  </tbody>\n",
       "</table></div>"
      ],
      "text/plain": [
       "                   LOAN_NAME  BORROWER_GENDERS  LOAN_AMOUNT ACTIVITY_NAME  \\\n",
       "384482  Nuevo Esfuerzo Group  male, male, male        650.0        Retail   \n",
       "10213                Kalpana            female        325.0         Dairy   \n",
       "161211       XIMENA LILIBETH            female       1575.0       Farming   \n",
       "\n",
       "        SECTOR_NAME                                        DESCRIPTION  \\\n",
       "384482       Retail  el grupo el nuevo Esfuerzo esta integrado por ...   \n",
       "10213   Agriculture  Kalpana lives in a small village of Falakata, ...   \n",
       "161211  Agriculture  La señora Ximena una mujer luchadora, es madre...   \n",
       "\n",
       "       COUNTRY_NAME  \n",
       "384482     Honduras  \n",
       "10213         India  \n",
       "161211      Ecuador  "
      ]
     },
     "execution_count": 265,
     "metadata": {},
     "output_type": "execute_result"
    }
   ],
   "source": [
    "kiva_output(158380, 999604, 999042)"
   ]
  }
 ],
 "metadata": {
  "kernelspec": {
   "display_name": "Python 3 (ipykernel)",
   "language": "python",
   "name": "python3"
  },
  "language_info": {
   "codemirror_mode": {
    "name": "ipython",
    "version": 3
   },
   "file_extension": ".py",
   "mimetype": "text/x-python",
   "name": "python",
   "nbconvert_exporter": "python",
   "pygments_lexer": "ipython3",
   "version": "3.8.8"
  }
 },
 "nbformat": 4,
 "nbformat_minor": 5
}
