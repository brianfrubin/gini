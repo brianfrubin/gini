{
 "cells": [
  {
   "cell_type": "markdown",
   "id": "0ca9c5dc",
   "metadata": {},
   "source": [
    "# Gini"
   ]
  },
  {
   "cell_type": "markdown",
   "id": "5a88dd46",
   "metadata": {},
   "source": [
    "## Content-Based Model"
   ]
  },
  {
   "cell_type": "markdown",
   "id": "ce6a3eae",
   "metadata": {},
   "source": [
    "    imports"
   ]
  },
  {
   "cell_type": "code",
   "execution_count": 8,
   "id": "5eaa35d0",
   "metadata": {},
   "outputs": [],
   "source": [
    "import numpy as np\n",
    "import pandas as pd\n",
    "\n",
    "from sklearn.metrics.pairwise import cosine_similarity"
   ]
  },
  {
   "cell_type": "markdown",
   "id": "f02abc90",
   "metadata": {},
   "source": [
    "    read"
   ]
  },
  {
   "cell_type": "code",
   "execution_count": 9,
   "id": "a2816da7",
   "metadata": {},
   "outputs": [],
   "source": [
    "model_df = pd.read_csv(\"../data/transformed/processed_content_filter_data.csv\")"
   ]
  },
  {
   "cell_type": "code",
   "execution_count": 10,
   "id": "f9cd67ee",
   "metadata": {},
   "outputs": [
    {
     "data": {
      "text/html": [
       "<div>\n",
       "<style scoped>\n",
       "    .dataframe tbody tr th:only-of-type {\n",
       "        vertical-align: middle;\n",
       "    }\n",
       "\n",
       "    .dataframe tbody tr th {\n",
       "        vertical-align: top;\n",
       "    }\n",
       "\n",
       "    .dataframe thead th {\n",
       "        text-align: right;\n",
       "    }\n",
       "</style>\n",
       "<table border=\"1\" class=\"dataframe\">\n",
       "  <thead>\n",
       "    <tr style=\"text-align: right;\">\n",
       "      <th></th>\n",
       "      <th>LOAN_ID</th>\n",
       "      <th>DESCRIPTION</th>\n",
       "      <th>LOAN_AMOUNT</th>\n",
       "      <th>LOAN_USE</th>\n",
       "      <th>TAGS</th>\n",
       "      <th>FEMALE_OPERATED</th>\n",
       "      <th>ORIGINAL_LANGUAGE_Arabic</th>\n",
       "      <th>ORIGINAL_LANGUAGE_English</th>\n",
       "      <th>ORIGINAL_LANGUAGE_French</th>\n",
       "      <th>ORIGINAL_LANGUAGE_Indonesian</th>\n",
       "      <th>...</th>\n",
       "      <th>married woman</th>\n",
       "      <th>medical expenses</th>\n",
       "      <th>rancor</th>\n",
       "      <th>sanitary</th>\n",
       "      <th>school fees</th>\n",
       "      <th>single mother</th>\n",
       "      <th>user_favorite</th>\n",
       "      <th>volunteer_like</th>\n",
       "      <th>volunteer_pick</th>\n",
       "      <th>water filter</th>\n",
       "    </tr>\n",
       "  </thead>\n",
       "  <tbody>\n",
       "    <tr>\n",
       "      <th>0</th>\n",
       "      <td>357587</td>\n",
       "      <td>Ibtisam is a 41-year-old married lady, who kni...</td>\n",
       "      <td>925.0</td>\n",
       "      <td>to buy more wool and make more clothing items.</td>\n",
       "      <td>rancor</td>\n",
       "      <td>1</td>\n",
       "      <td>0</td>\n",
       "      <td>1</td>\n",
       "      <td>0</td>\n",
       "      <td>0</td>\n",
       "      <td>...</td>\n",
       "      <td>0</td>\n",
       "      <td>0</td>\n",
       "      <td>1</td>\n",
       "      <td>0</td>\n",
       "      <td>0</td>\n",
       "      <td>0</td>\n",
       "      <td>0</td>\n",
       "      <td>0</td>\n",
       "      <td>0</td>\n",
       "      <td>0</td>\n",
       "    </tr>\n",
       "    <tr>\n",
       "      <th>1</th>\n",
       "      <td>689681</td>\n",
       "      <td>Nemesiana is a married woman and a mother of t...</td>\n",
       "      <td>125.0</td>\n",
       "      <td>to buy fertilizer and pesticide</td>\n",
       "      <td>rancor</td>\n",
       "      <td>1</td>\n",
       "      <td>0</td>\n",
       "      <td>1</td>\n",
       "      <td>0</td>\n",
       "      <td>0</td>\n",
       "      <td>...</td>\n",
       "      <td>1</td>\n",
       "      <td>0</td>\n",
       "      <td>1</td>\n",
       "      <td>0</td>\n",
       "      <td>0</td>\n",
       "      <td>0</td>\n",
       "      <td>0</td>\n",
       "      <td>0</td>\n",
       "      <td>0</td>\n",
       "      <td>0</td>\n",
       "    </tr>\n",
       "    <tr>\n",
       "      <th>2</th>\n",
       "      <td>1589199</td>\n",
       "      <td>Chansamoul’s Group lives in a rural village in...</td>\n",
       "      <td>100.0</td>\n",
       "      <td>to buy a water filter to provide safe drinking...</td>\n",
       "      <td>#Technology, #Eco-friendly, #Health and Sanita...</td>\n",
       "      <td>0</td>\n",
       "      <td>0</td>\n",
       "      <td>1</td>\n",
       "      <td>0</td>\n",
       "      <td>0</td>\n",
       "      <td>...</td>\n",
       "      <td>0</td>\n",
       "      <td>1</td>\n",
       "      <td>0</td>\n",
       "      <td>0</td>\n",
       "      <td>0</td>\n",
       "      <td>0</td>\n",
       "      <td>0</td>\n",
       "      <td>0</td>\n",
       "      <td>0</td>\n",
       "      <td>1</td>\n",
       "    </tr>\n",
       "    <tr>\n",
       "      <th>3</th>\n",
       "      <td>1471509</td>\n",
       "      <td>Salim, 30, was orphaned at a young age and los...</td>\n",
       "      <td>575.0</td>\n",
       "      <td>to purchase more timber to sell.</td>\n",
       "      <td>user_favorite</td>\n",
       "      <td>0</td>\n",
       "      <td>0</td>\n",
       "      <td>1</td>\n",
       "      <td>0</td>\n",
       "      <td>0</td>\n",
       "      <td>...</td>\n",
       "      <td>0</td>\n",
       "      <td>0</td>\n",
       "      <td>0</td>\n",
       "      <td>0</td>\n",
       "      <td>0</td>\n",
       "      <td>0</td>\n",
       "      <td>1</td>\n",
       "      <td>0</td>\n",
       "      <td>0</td>\n",
       "      <td>0</td>\n",
       "    </tr>\n",
       "    <tr>\n",
       "      <th>4</th>\n",
       "      <td>423277</td>\n",
       "      <td>Cristina is fifty-one years old and married wi...</td>\n",
       "      <td>400.0</td>\n",
       "      <td>to buy beer and soda for wholesale distribution.</td>\n",
       "      <td>rancor</td>\n",
       "      <td>1</td>\n",
       "      <td>0</td>\n",
       "      <td>1</td>\n",
       "      <td>0</td>\n",
       "      <td>0</td>\n",
       "      <td>...</td>\n",
       "      <td>0</td>\n",
       "      <td>0</td>\n",
       "      <td>1</td>\n",
       "      <td>0</td>\n",
       "      <td>0</td>\n",
       "      <td>0</td>\n",
       "      <td>0</td>\n",
       "      <td>0</td>\n",
       "      <td>0</td>\n",
       "      <td>0</td>\n",
       "    </tr>\n",
       "  </tbody>\n",
       "</table>\n",
       "<p>5 rows × 253 columns</p>\n",
       "</div>"
      ],
      "text/plain": [
       "   LOAN_ID                                        DESCRIPTION  LOAN_AMOUNT  \\\n",
       "0   357587  Ibtisam is a 41-year-old married lady, who kni...        925.0   \n",
       "1   689681  Nemesiana is a married woman and a mother of t...        125.0   \n",
       "2  1589199  Chansamoul’s Group lives in a rural village in...        100.0   \n",
       "3  1471509  Salim, 30, was orphaned at a young age and los...        575.0   \n",
       "4   423277  Cristina is fifty-one years old and married wi...        400.0   \n",
       "\n",
       "                                            LOAN_USE  \\\n",
       "0     to buy more wool and make more clothing items.   \n",
       "1                    to buy fertilizer and pesticide   \n",
       "2  to buy a water filter to provide safe drinking...   \n",
       "3                   to purchase more timber to sell.   \n",
       "4   to buy beer and soda for wholesale distribution.   \n",
       "\n",
       "                                                TAGS  FEMALE_OPERATED  \\\n",
       "0                                             rancor                1   \n",
       "1                                             rancor                1   \n",
       "2  #Technology, #Eco-friendly, #Health and Sanita...                0   \n",
       "3                                      user_favorite                0   \n",
       "4                                             rancor                1   \n",
       "\n",
       "   ORIGINAL_LANGUAGE_Arabic  ORIGINAL_LANGUAGE_English  \\\n",
       "0                         0                          1   \n",
       "1                         0                          1   \n",
       "2                         0                          1   \n",
       "3                         0                          1   \n",
       "4                         0                          1   \n",
       "\n",
       "   ORIGINAL_LANGUAGE_French  ORIGINAL_LANGUAGE_Indonesian  ...  married woman  \\\n",
       "0                         0                             0  ...              0   \n",
       "1                         0                             0  ...              1   \n",
       "2                         0                             0  ...              0   \n",
       "3                         0                             0  ...              0   \n",
       "4                         0                             0  ...              0   \n",
       "\n",
       "   medical expenses  rancor  sanitary  school fees  single mother  \\\n",
       "0                 0       1         0            0              0   \n",
       "1                 0       1         0            0              0   \n",
       "2                 1       0         0            0              0   \n",
       "3                 0       0         0            0              0   \n",
       "4                 0       1         0            0              0   \n",
       "\n",
       "   user_favorite  volunteer_like  volunteer_pick  water filter  \n",
       "0              0               0               0             0  \n",
       "1              0               0               0             0  \n",
       "2              0               0               0             1  \n",
       "3              1               0               0             0  \n",
       "4              0               0               0             0  \n",
       "\n",
       "[5 rows x 253 columns]"
      ]
     },
     "execution_count": 10,
     "metadata": {},
     "output_type": "execute_result"
    }
   ],
   "source": [
    "model_df.head()"
   ]
  },
  {
   "cell_type": "code",
   "execution_count": 11,
   "id": "0e65273e",
   "metadata": {},
   "outputs": [],
   "source": [
    "model_df.reset_index(inplace=True, drop=True)"
   ]
  },
  {
   "cell_type": "markdown",
   "id": "0a4072ed",
   "metadata": {},
   "source": [
    "### Content-based Filter"
   ]
  },
  {
   "cell_type": "code",
   "execution_count": 14,
   "id": "e08f72a1",
   "metadata": {},
   "outputs": [],
   "source": [
    "X = model_df.drop([\"user_favorite\", \"volunteer_like\", \"volunteer_pick\", \"rancor\", \"DESCRIPTION\",\n",
    "                   \"LOAN_AMOUNT\", \"LOAN_USE\", \"TAGS\", \"TAGS+\", \"TEXT\", \"PROCESSED_TEXT\", \"LOAN_ID\"],\n",
    "                   axis = 1).astype(np.uint8)\n",
    "X = X.to_numpy()"
   ]
  },
  {
   "cell_type": "code",
   "execution_count": 123,
   "id": "fd5316f8",
   "metadata": {},
   "outputs": [],
   "source": [
    "# create a synthetic user\n",
    "user_interests = np.random.binomial(1, 10/X.shape[1], X.shape[1])\n",
    "user_interests = np.reshape(user_interests, (1, -1))"
   ]
  },
  {
   "cell_type": "code",
   "execution_count": 124,
   "id": "f14afa78",
   "metadata": {},
   "outputs": [
    {
     "data": {
      "text/plain": [
       "[(0.3202563076101743, 2071366),\n",
       " (0.2773500981126146, 1499455),\n",
       " (0.2773500981126146, 268562),\n",
       " (0.2773500981126146, 2172635),\n",
       " (0.2773500981126146, 2137325)]"
      ]
     },
     "execution_count": 124,
     "metadata": {},
     "output_type": "execute_result"
    }
   ],
   "source": [
    "# Nearest vectors to synthetic user\n",
    "rec = cosine_similarity(X, user_interests)\n",
    "\n",
    "# index similarity scores\n",
    "ordinals = [i for i in range(len(rec.ravel()))]\n",
    "rec_ordinal = list(zip(rec.ravel(), ordinals))\n",
    "\n",
    "# sort for top scores\n",
    "sorted_index = sorted(rec_ordinal, key = lambda x: x[0], reverse=True)\n",
    "\n",
    "# top 5 scores and loan ids\n",
    "top_loan_ids = [(x, model_df.iloc[y][0]) for x, y in sorted_index[0:5]]\n",
    "top_loan_ids"
   ]
  }
 ],
 "metadata": {
  "kernelspec": {
   "display_name": "Python 3 (ipykernel)",
   "language": "python",
   "name": "python3"
  },
  "language_info": {
   "codemirror_mode": {
    "name": "ipython",
    "version": 3
   },
   "file_extension": ".py",
   "mimetype": "text/x-python",
   "name": "python",
   "nbconvert_exporter": "python",
   "pygments_lexer": "ipython3",
   "version": "3.8.12"
  }
 },
 "nbformat": 4,
 "nbformat_minor": 5
}
